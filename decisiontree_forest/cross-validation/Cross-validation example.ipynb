{
 "cells": [
  {
   "cell_type": "markdown",
   "metadata": {},
   "source": [
    "In this notebook we will discuss:\n",
    "    \n",
    "1) Cross-validation\n",
    "\n",
    "2) Using ExtraTreesClassifier for feature selection."
   ]
  },
  {
   "cell_type": "markdown",
   "metadata": {},
   "source": [
    "### Cross-validation\n",
    "\n",
    "Is a process to validate a model. The goal of cross-validation is to test the model's ability to predict new data that was not used in estimating it, in order to flag problems like overfitting or selection bias and to give an insight on how the model will generalize to an independent dataset (i.e., an unknown dataset, for instance from a real problem).\n",
    "\n",
    "One round of cross-validation involves partitioning a sample of data into complementary subsets, performing the analysis on one subset (called the training set), and validating the analysis on the other subset (called the validation set or testing set). To reduce variability, in most methods multiple rounds of cross-validation are performed using different partitions, and the validation results are combined (e.g. averaged) over the rounds to give an estimate of the model's predictive performance.\n",
    "\n",
    "References: https://en.wikipedia.org/wiki/Cross-validation_(statistics)#:~:text=Cross%2Dvalidation%2C%20sometimes%20called%20rotation,to%20an%20independent%20data%20set."
   ]
  },
  {
   "cell_type": "markdown",
   "metadata": {},
   "source": [
    "#### k-fold cross-validation\n",
    "\n",
    "In k-fold cross-validation, the original sample is randomly partitioned into k equal sized subsamples. Of the k subsamples, a single subsample is retained as the validation data for testing the model, and the remaining k − 1 subsamples are used as training data. The cross-validation process is then repeated k times, with each of the k subsamples used exactly once as the validation data. The k results can then be averaged to produce a single estimation. The advantage of this method over repeated random sub-sampling is that all observations are used for both training and validation, and each observation is used for validation exactly once. "
   ]
  },
  {
   "cell_type": "markdown",
   "metadata": {},
   "source": [
    "#### Explanation\n",
    "\n",
    "1, 2, 3, 4, 5, 6, 7, 8, 9, 10, 11, 12\n",
    "\n",
    "k = 4, we want to make 4 groups or partitions\n",
    "\n",
    "In each group will have 3 values\n",
    "\n",
    "G1 - 1, 2, 3\n",
    "\n",
    "G2 - 4, 5, 6\n",
    "\n",
    "G3 - 7, 8, 9\n",
    "\n",
    "G4 - 10, 11, 12\n",
    "\n",
    "First iteration: G1, G2, G3 for training and G4 to CV\n",
    "\n",
    "Second iteration: G2, G3, G4 for training and G1 for CV\n",
    "\n",
    "Third iteration: G1, G3, G4 for training and G2 for CV\n",
    "\n",
    "Fourth iteration: G1, G2, G4 for training and G3 for CV"
   ]
  },
  {
   "cell_type": "code",
   "execution_count": 1,
   "metadata": {},
   "outputs": [],
   "source": [
    "import pandas as pd\n",
    "import matplotlib.pyplot as plt\n",
    "import seaborn as sns\n",
    "%matplotlib inline"
   ]
  },
  {
   "cell_type": "code",
   "execution_count": 2,
   "metadata": {},
   "outputs": [],
   "source": [
    "df = pd.read_csv(\"Titanic.csv\")"
   ]
  },
  {
   "cell_type": "code",
   "execution_count": 3,
   "metadata": {},
   "outputs": [
    {
     "name": "stdout",
     "output_type": "stream",
     "text": [
      "Index(['PassengerId', 'Survived', 'Pclass', 'Name', 'Gender', 'Age', 'SibSp',\n",
      "       'Parch', 'Ticket', 'Fare', 'Cabin', 'Embarked'],\n",
      "      dtype='object')\n"
     ]
    }
   ],
   "source": [
    "print(df.columns)"
   ]
  },
  {
   "cell_type": "code",
   "execution_count": 4,
   "metadata": {},
   "outputs": [
    {
     "name": "stdout",
     "output_type": "stream",
     "text": [
      "(891, 12)\n"
     ]
    }
   ],
   "source": [
    "print(df.shape)"
   ]
  },
  {
   "cell_type": "code",
   "execution_count": 5,
   "metadata": {},
   "outputs": [],
   "source": [
    "df[\"family_size\"] = df[\"SibSp\"] + df[\"Parch\"] + 1"
   ]
  },
  {
   "cell_type": "code",
   "execution_count": 6,
   "metadata": {},
   "outputs": [
    {
     "name": "stdout",
     "output_type": "stream",
     "text": [
      "0    0\n",
      "1    0\n",
      "2    0\n",
      "3    0\n",
      "4    0\n",
      "Name: Parch, dtype: int64\n",
      "+++++++++++++\n",
      "0    1\n",
      "1    1\n",
      "2    0\n",
      "3    1\n",
      "4    0\n",
      "Name: SibSp, dtype: int64\n"
     ]
    }
   ],
   "source": [
    "print(df[\"Parch\"].head())\n",
    "print(\"+++++++++++++\")\n",
    "print(df[\"SibSp\"].head())"
   ]
  },
  {
   "cell_type": "code",
   "execution_count": 7,
   "metadata": {},
   "outputs": [
    {
     "name": "stdout",
     "output_type": "stream",
     "text": [
      "0    2\n",
      "1    2\n",
      "2    1\n",
      "3    2\n",
      "4    1\n",
      "Name: family_size, dtype: int64\n"
     ]
    }
   ],
   "source": [
    "print(df[\"family_size\"].head())"
   ]
  },
  {
   "cell_type": "code",
   "execution_count": 8,
   "metadata": {},
   "outputs": [
    {
     "name": "stdout",
     "output_type": "stream",
     "text": [
      "['S' 'C' 'Q' nan]\n"
     ]
    }
   ],
   "source": [
    "print(df[\"Embarked\"].unique())"
   ]
  },
  {
   "cell_type": "code",
   "execution_count": 9,
   "metadata": {},
   "outputs": [
    {
     "name": "stdout",
     "output_type": "stream",
     "text": [
      "PassengerId      0\n",
      "Survived         0\n",
      "Pclass           0\n",
      "Name             0\n",
      "Gender           0\n",
      "Age            177\n",
      "SibSp            0\n",
      "Parch            0\n",
      "Ticket           0\n",
      "Fare             0\n",
      "Cabin          687\n",
      "Embarked         2\n",
      "family_size      0\n",
      "dtype: int64\n"
     ]
    }
   ],
   "source": [
    "print(df.isnull().sum())"
   ]
  },
  {
   "cell_type": "code",
   "execution_count": 10,
   "metadata": {},
   "outputs": [
    {
     "data": {
      "text/plain": [
       "PassengerId      0\n",
       "Survived         0\n",
       "Pclass           0\n",
       "Name             0\n",
       "Gender           0\n",
       "Age              0\n",
       "SibSp            0\n",
       "Parch            0\n",
       "Ticket           0\n",
       "Fare             0\n",
       "Cabin          687\n",
       "Embarked         2\n",
       "family_size      0\n",
       "dtype: int64"
      ]
     },
     "execution_count": 10,
     "metadata": {},
     "output_type": "execute_result"
    }
   ],
   "source": [
    "df[\"Age\"].fillna(value=df[\"Age\"].median(), inplace=True)\n",
    "df.isnull().sum()"
   ]
  },
  {
   "cell_type": "code",
   "execution_count": 11,
   "metadata": {},
   "outputs": [
    {
     "data": {
      "text/plain": [
       "count     889\n",
       "unique      3\n",
       "top         S\n",
       "freq      644\n",
       "Name: Embarked, dtype: object"
      ]
     },
     "execution_count": 11,
     "metadata": {},
     "output_type": "execute_result"
    }
   ],
   "source": [
    "df[\"Embarked\"].describe()"
   ]
  },
  {
   "cell_type": "code",
   "execution_count": 12,
   "metadata": {},
   "outputs": [
    {
     "data": {
      "text/plain": [
       "PassengerId      0\n",
       "Survived         0\n",
       "Pclass           0\n",
       "Name             0\n",
       "Gender           0\n",
       "Age              0\n",
       "SibSp            0\n",
       "Parch            0\n",
       "Ticket           0\n",
       "Fare             0\n",
       "Cabin          687\n",
       "Embarked         0\n",
       "family_size      0\n",
       "dtype: int64"
      ]
     },
     "execution_count": 12,
     "metadata": {},
     "output_type": "execute_result"
    }
   ],
   "source": [
    "df[\"Embarked\"].fillna(value=\"S\", inplace=True)\n",
    "df.isnull().sum()"
   ]
  },
  {
   "cell_type": "code",
   "execution_count": 13,
   "metadata": {},
   "outputs": [],
   "source": [
    "embarked = {\"S\":0, \"C\":1, \"Q\":2}"
   ]
  },
  {
   "cell_type": "code",
   "execution_count": 14,
   "metadata": {},
   "outputs": [],
   "source": [
    "df.Embarked = [embarked[item] for item in df.Embarked] # list comprehension"
   ]
  },
  {
   "cell_type": "code",
   "execution_count": 15,
   "metadata": {},
   "outputs": [],
   "source": [
    "gender = {\"female\":1, \"male\":0}"
   ]
  },
  {
   "cell_type": "code",
   "execution_count": 16,
   "metadata": {},
   "outputs": [],
   "source": [
    "df.Gender = [gender[item] for item in df.Gender]"
   ]
  },
  {
   "cell_type": "code",
   "execution_count": 17,
   "metadata": {},
   "outputs": [
    {
     "name": "stdout",
     "output_type": "stream",
     "text": [
      "0    0\n",
      "1    1\n",
      "2    1\n",
      "3    1\n",
      "4    0\n",
      "Name: Gender, dtype: int64\n"
     ]
    }
   ],
   "source": [
    "print(df.Gender[0:5])"
   ]
  },
  {
   "cell_type": "code",
   "execution_count": 18,
   "metadata": {},
   "outputs": [],
   "source": [
    "dfx = df[[\"Age\", \"Gender\", \"family_size\", \"Embarked\"]].copy(deep=True)\n",
    "dfy = df[[\"Survived\"]].copy(deep=True)"
   ]
  },
  {
   "cell_type": "code",
   "execution_count": 19,
   "metadata": {},
   "outputs": [],
   "source": [
    "from sklearn.model_selection import train_test_split\n",
    "from sklearn.preprocessing import StandardScaler\n",
    "import numpy as np\n",
    "scaler = StandardScaler()\n",
    "x = scaler.fit_transform(dfx)"
   ]
  },
  {
   "cell_type": "code",
   "execution_count": 20,
   "metadata": {},
   "outputs": [],
   "source": [
    "y = dfy"
   ]
  },
  {
   "cell_type": "code",
   "execution_count": 21,
   "metadata": {},
   "outputs": [
    {
     "name": "stdout",
     "output_type": "stream",
     "text": [
      "(891, 4)\n",
      "(891, 1)\n"
     ]
    }
   ],
   "source": [
    "print(x.shape)\n",
    "print(y.shape)"
   ]
  },
  {
   "cell_type": "code",
   "execution_count": 22,
   "metadata": {},
   "outputs": [],
   "source": [
    "import numpy\n",
    "x = numpy.array(x)\n",
    "y = numpy.array(y)"
   ]
  },
  {
   "cell_type": "code",
   "execution_count": 23,
   "metadata": {},
   "outputs": [
    {
     "name": "stdout",
     "output_type": "stream",
     "text": [
      "(891, 4) (891, 1)\n"
     ]
    }
   ],
   "source": [
    "print(x.shape, y.shape)"
   ]
  },
  {
   "cell_type": "code",
   "execution_count": 24,
   "metadata": {},
   "outputs": [
    {
     "name": "stdout",
     "output_type": "stream",
     "text": [
      "Train: [  0   1   3   4   5   6   7   8   9  11  13  15  16  17  18  20  21  22\n",
      "  23  25  26  27  30  32  35  36  37  40  41  42  43  44  45  46  47  48\n",
      "  49  50  51  52  53  54  55  56  57  58  59  60  61  62  63  64  66  68\n",
      "  69  70  72  73  76  77  78  79  80  82  83  84  85  87  88  90  91  92\n",
      "  93  95  96  97  98  99 101 102 103 104 105 106 107 108 109 110 111 112\n",
      " 113 114 115 116 117 118 119 122 124 125 126 127 128 129 130 131 132 133\n",
      " 134 135 136 138 141 142 143 144 145 146 147 148 150 151 152 153 154 155\n",
      " 156 157 158 159 160 162 163 164 165 167 168 169 170 171 172 175 176 177\n",
      " 179 180 181 182 183 184 185 186 189 190 191 193 195 196 197 198 200 201\n",
      " 203 206 207 208 209 210 212 213 214 215 216 217 218 219 220 221 222 223\n",
      " 224 225 226 227 228 229 230 233 234 235 236 237 238 239 240 241 243 244\n",
      " 246 247 248 249 250 252 253 254 255 256 258 259 260 262 263 265 266 267\n",
      " 268 269 270 271 272 273 275 276 277 278 281 282 283 284 285 286 287 288\n",
      " 289 291 292 293 294 295 296 297 299 300 301 302 303 304 305 306 307 308\n",
      " 309 310 311 312 313 314 315 316 318 320 321 323 324 325 326 327 328 329\n",
      " 332 333 334 336 337 338 339 340 341 343 344 345 346 347 348 349 350 351\n",
      " 352 353 354 355 356 357 358 359 360 361 362 363 364 365 366 367 368 370\n",
      " 372 373 374 375 376 377 378 379 380 381 382 383 385 386 387 388 389 390\n",
      " 391 393 394 395 396 397 398 399 400 401 402 405 406 410 411 412 415 416\n",
      " 417 418 419 421 422 423 425 426 427 429 430 431 432 433 434 437 439 440\n",
      " 441 442 443 444 446 448 449 450 452 453 455 457 458 459 460 461 463 464\n",
      " 465 466 467 469 471 474 475 476 477 478 479 480 482 483 484 485 486 488\n",
      " 489 490 491 493 494 495 498 499 500 501 502 504 506 507 508 510 511 513\n",
      " 514 515 516 517 520 521 522 523 524 525 527 528 529 530 531 533 534 535\n",
      " 537 538 539 541 542 543 544 546 547 548 550 551 552 553 555 556 557 558\n",
      " 559 561 562 564 565 566 567 568 569 571 572 573 575 576 577 578 581 584\n",
      " 586 587 588 589 590 591 592 595 596 598 599 600 601 602 604 605 608 610\n",
      " 612 613 614 615 617 618 619 620 621 623 624 626 627 628 629 630 631 633\n",
      " 634 635 637 638 639 640 641 642 643 644 645 646 647 648 649 650 651 652\n",
      " 653 654 655 656 657 658 659 660 661 662 663 664 665 666 668 669 670 671\n",
      " 672 673 674 675 676 678 680 681 682 683 684 685 686 687 688 689 690 691\n",
      " 692 693 694 695 696 697 698 701 702 703 704 707 708 709 710 712 715 716\n",
      " 717 718 719 720 721 722 723 724 726 727 729 731 732 733 734 735 736 737\n",
      " 738 740 741 742 743 744 745 746 748 749 750 752 753 754 757 758 759 761\n",
      " 762 763 765 768 770 771 772 773 774 777 778 779 780 781 782 783 784 785\n",
      " 786 787 789 790 791 792 795 796 797 799 800 801 802 803 804 806 808 809\n",
      " 810 811 814 815 816 818 819 821 822 823 826 827 828 829 830 832 833 834\n",
      " 835 836 837 838 839 840 841 842 844 845 846 847 848 849 850 852 855 856\n",
      " 857 858 861 863 864 865 866 867 868 869 870 871 872 873 875 876 877 878\n",
      " 879 880 881 882 883 885 886 887 888 890] Validation: [  2  10  12  14  19  24  28  29  31  33  34  38  39  65  67  71  74  75\n",
      "  81  86  89  94 100 120 121 123 137 139 140 149 161 166 173 174 178 187\n",
      " 188 192 194 199 202 204 205 211 231 232 242 245 251 257 261 264 274 279\n",
      " 280 290 298 317 319 322 330 331 335 342 369 371 384 392 403 404 407 408\n",
      " 409 413 414 420 424 428 435 436 438 445 447 451 454 456 462 468 470 472\n",
      " 473 481 487 492 496 497 503 505 509 512 518 519 526 532 536 540 545 549\n",
      " 554 560 563 570 574 579 580 582 583 585 593 594 597 603 606 607 609 611\n",
      " 616 622 625 632 636 667 677 679 699 700 705 706 711 713 714 725 728 730\n",
      " 739 747 751 755 756 760 764 766 767 769 775 776 788 793 794 798 805 807\n",
      " 812 813 817 820 824 825 831 843 851 853 854 859 860 862 874 884 889]\n",
      "Train: [  2   3   4   5   7   9  10  11  12  13  14  15  16  17  18  19  23  24\n",
      "  26  27  28  29  30  31  32  33  34  35  37  38  39  41  42  43  44  45\n",
      "  47  48  50  51  53  54  55  56  57  59  60  61  62  63  64  65  66  67\n",
      "  68  69  70  71  73  74  75  76  77  78  79  80  81  82  83  84  85  86\n",
      "  88  89  90  91  93  94  96  97  98  99 100 101 102 104 105 106 108 109\n",
      " 110 111 113 114 115 116 118 119 120 121 123 124 125 126 127 128 129 131\n",
      " 132 133 134 135 136 137 138 139 140 141 142 143 144 145 146 148 149 150\n",
      " 151 152 153 156 157 158 159 160 161 162 163 164 165 166 168 169 170 171\n",
      " 173 174 175 176 177 178 179 180 181 184 185 186 187 188 190 191 192 194\n",
      " 195 196 197 198 199 202 203 204 205 206 208 211 212 213 214 217 218 219\n",
      " 220 221 222 224 225 229 230 231 232 233 234 235 236 237 238 242 243 244\n",
      " 245 246 247 248 249 250 251 252 253 255 256 257 259 260 261 263 264 265\n",
      " 266 267 269 271 272 273 274 277 278 279 280 282 283 284 285 287 289 290\n",
      " 291 292 293 295 296 297 298 299 300 302 303 304 306 307 308 309 310 311\n",
      " 312 314 315 316 317 318 319 320 321 322 323 324 325 326 327 328 330 331\n",
      " 332 333 334 335 336 337 338 339 340 341 342 344 345 347 348 349 350 352\n",
      " 353 354 355 356 357 358 359 360 362 364 365 366 368 369 370 371 373 374\n",
      " 376 377 378 379 381 382 383 384 388 389 390 391 392 393 394 396 400 402\n",
      " 403 404 406 407 408 409 410 411 413 414 415 416 417 418 419 420 421 423\n",
      " 424 425 428 429 430 431 432 433 435 436 437 438 439 440 441 442 443 444\n",
      " 445 447 448 450 451 452 453 454 456 457 459 460 461 462 463 464 465 466\n",
      " 467 468 470 472 473 474 477 480 481 482 483 484 486 487 488 489 491 492\n",
      " 493 495 496 497 498 499 500 501 503 504 505 506 507 509 510 511 512 513\n",
      " 514 515 516 517 518 519 520 521 522 523 524 526 527 529 530 532 533 534\n",
      " 536 537 538 539 540 541 542 544 545 546 547 548 549 551 552 554 555 556\n",
      " 557 558 560 561 562 563 565 566 568 569 570 573 574 575 576 577 579 580\n",
      " 581 582 583 584 585 586 587 588 589 590 591 592 593 594 595 596 597 598\n",
      " 599 600 601 603 606 607 608 609 611 612 614 615 616 617 618 619 620 621\n",
      " 622 623 625 626 627 628 629 630 632 636 637 638 639 640 641 644 645 647\n",
      " 649 651 652 653 655 656 657 658 659 663 664 666 667 668 669 670 672 673\n",
      " 675 677 678 679 680 682 683 684 686 687 688 690 692 693 694 695 696 697\n",
      " 699 700 701 702 703 704 705 706 707 708 709 710 711 713 714 715 716 717\n",
      " 718 719 720 721 723 725 727 728 729 730 731 733 735 736 737 738 739 740\n",
      " 741 742 744 745 746 747 750 751 754 755 756 757 759 760 761 762 764 765\n",
      " 766 767 769 770 771 772 773 774 775 776 777 778 780 781 784 785 786 787\n",
      " 788 790 792 793 794 795 796 798 799 800 801 803 805 806 807 808 809 812\n",
      " 813 814 816 817 818 819 820 821 823 824 825 826 827 828 830 831 832 833\n",
      " 834 835 836 837 838 839 842 843 844 845 846 848 850 851 852 853 854 855\n",
      " 856 858 859 860 861 862 863 864 865 866 868 871 872 873 874 876 878 879\n",
      " 880 881 882 883 884 885 886 887 888 889 890] Validation: [  0   1   6   8  20  21  22  25  36  40  46  49  52  58  72  87  92  95\n",
      " 103 107 112 117 122 130 147 154 155 167 172 182 183 189 193 200 201 207\n",
      " 209 210 215 216 223 226 227 228 239 240 241 254 258 262 268 270 275 276\n",
      " 281 286 288 294 301 305 313 329 343 346 351 361 363 367 372 375 380 385\n",
      " 386 387 395 397 398 399 401 405 412 422 426 427 434 446 449 455 458 469\n",
      " 471 475 476 478 479 485 490 494 502 508 525 528 531 535 543 550 553 559\n",
      " 564 567 571 572 578 602 604 605 610 613 624 631 633 634 635 642 643 646\n",
      " 648 650 654 660 661 662 665 671 674 676 681 685 689 691 698 712 722 724\n",
      " 726 732 734 743 748 749 752 753 758 763 768 779 782 783 789 791 797 802\n",
      " 804 810 811 815 822 829 840 841 847 849 857 867 869 870 875 877]\n",
      "Train: [  0   1   2   4   6   8  10  11  12  14  16  17  18  19  20  21  22  23\n",
      "  24  25  27  28  29  31  32  33  34  35  36  37  38  39  40  42  43  44\n",
      "  45  46  47  48  49  50  52  53  54  55  56  58  60  61  64  65  66  67\n",
      "  68  69  70  71  72  74  75  77  78  79  80  81  82  83  85  86  87  89\n",
      "  90  92  94  95  96  98  99 100 101 102 103 104 105 106 107 109 110 111\n",
      " 112 113 114 116 117 119 120 121 122 123 124 125 126 129 130 131 133 134\n",
      " 135 136 137 138 139 140 141 142 144 147 148 149 151 152 154 155 157 158\n",
      " 159 160 161 162 164 166 167 168 169 170 172 173 174 175 176 178 179 180\n",
      " 181 182 183 184 186 187 188 189 192 193 194 195 196 197 198 199 200 201\n",
      " 202 203 204 205 206 207 208 209 210 211 212 213 214 215 216 219 220 222\n",
      " 223 224 226 227 228 229 230 231 232 233 234 235 236 237 238 239 240 241\n",
      " 242 245 247 248 249 250 251 252 253 254 257 258 260 261 262 264 265 266\n",
      " 267 268 270 271 272 274 275 276 277 279 280 281 282 283 284 285 286 287\n",
      " 288 289 290 291 292 293 294 295 297 298 299 301 302 303 305 306 307 308\n",
      " 309 311 312 313 315 317 319 320 322 323 325 326 327 328 329 330 331 332\n",
      " 334 335 336 337 338 340 341 342 343 345 346 347 349 350 351 352 353 355\n",
      " 356 358 359 361 362 363 364 366 367 368 369 370 371 372 373 374 375 376\n",
      " 377 379 380 381 384 385 386 387 389 391 392 395 397 398 399 400 401 402\n",
      " 403 404 405 407 408 409 411 412 413 414 415 416 418 419 420 422 423 424\n",
      " 425 426 427 428 429 430 432 433 434 435 436 437 438 440 442 443 445 446\n",
      " 447 449 450 451 454 455 456 458 462 463 464 466 467 468 469 470 471 472\n",
      " 473 475 476 477 478 479 480 481 482 483 484 485 487 488 489 490 491 492\n",
      " 493 494 495 496 497 498 499 500 501 502 503 505 506 507 508 509 510 511\n",
      " 512 514 515 517 518 519 522 525 526 528 529 530 531 532 533 534 535 536\n",
      " 539 540 541 542 543 544 545 546 548 549 550 551 552 553 554 556 557 559\n",
      " 560 561 563 564 565 566 567 568 569 570 571 572 573 574 575 576 578 579\n",
      " 580 582 583 584 585 586 587 589 590 592 593 594 595 596 597 599 600 601\n",
      " 602 603 604 605 606 607 608 609 610 611 612 613 615 616 619 620 621 622\n",
      " 623 624 625 626 630 631 632 633 634 635 636 639 642 643 644 645 646 647\n",
      " 648 649 650 651 652 653 654 655 656 659 660 661 662 663 664 665 666 667\n",
      " 670 671 672 673 674 676 677 679 681 685 686 687 688 689 690 691 693 694\n",
      " 695 697 698 699 700 703 704 705 706 707 708 709 711 712 713 714 715 716\n",
      " 717 720 722 723 724 725 726 727 728 730 732 733 734 735 737 738 739 742\n",
      " 743 745 747 748 749 750 751 752 753 755 756 757 758 760 761 762 763 764\n",
      " 766 767 768 769 771 772 775 776 777 778 779 780 781 782 783 785 787 788\n",
      " 789 790 791 792 793 794 795 796 797 798 799 801 802 804 805 806 807 810\n",
      " 811 812 813 815 816 817 820 821 822 823 824 825 826 829 830 831 832 834\n",
      " 835 836 839 840 841 842 843 844 845 846 847 848 849 850 851 852 853 854\n",
      " 855 857 858 859 860 861 862 863 864 866 867 868 869 870 871 872 873 874\n",
      " 875 876 877 878 879 880 881 884 885 889 890] Validation: [  3   5   7   9  13  15  26  30  41  51  57  59  62  63  73  76  84  88\n",
      "  91  93  97 108 115 118 127 128 132 143 145 146 150 153 156 163 165 171\n",
      " 177 185 190 191 217 218 221 225 243 244 246 255 256 259 263 269 273 278\n",
      " 296 300 304 310 314 316 318 321 324 333 339 344 348 354 357 360 365 378\n",
      " 382 383 388 390 393 394 396 406 410 417 421 431 439 441 444 448 452 453\n",
      " 457 459 460 461 465 474 486 504 513 516 520 521 523 524 527 537 538 547\n",
      " 555 558 562 577 581 588 591 598 614 617 618 627 628 629 637 638 640 641\n",
      " 657 658 668 669 675 678 680 682 683 684 692 696 701 702 710 718 719 721\n",
      " 729 731 736 740 741 744 746 754 759 765 770 773 774 784 786 800 803 808\n",
      " 809 814 818 819 827 828 833 837 838 856 865 882 883 886 887 888]\n",
      "Train: [  0   1   2   3   4   5   6   7   8   9  10  11  12  13  14  15  16  19\n",
      "  20  21  22  23  24  25  26  27  28  29  30  31  32  33  34  36  38  39\n",
      "  40  41  46  49  51  52  53  55  57  58  59  62  63  65  67  69  70  71\n",
      "  72  73  74  75  76  79  81  83  84  86  87  88  89  91  92  93  94  95\n",
      "  96  97  98 100 101 102 103 104 105 106 107 108 112 113 114 115 116 117\n",
      " 118 120 121 122 123 126 127 128 130 132 133 134 136 137 139 140 143 144\n",
      " 145 146 147 149 150 153 154 155 156 157 159 161 163 165 166 167 168 169\n",
      " 170 171 172 173 174 175 176 177 178 181 182 183 185 186 187 188 189 190\n",
      " 191 192 193 194 195 198 199 200 201 202 203 204 205 206 207 209 210 211\n",
      " 215 216 217 218 220 221 222 223 224 225 226 227 228 229 231 232 233 235\n",
      " 239 240 241 242 243 244 245 246 247 248 251 254 255 256 257 258 259 260\n",
      " 261 262 263 264 265 267 268 269 270 272 273 274 275 276 278 279 280 281\n",
      " 285 286 288 289 290 293 294 295 296 297 298 300 301 302 303 304 305 307\n",
      " 308 310 311 313 314 315 316 317 318 319 320 321 322 323 324 325 326 327\n",
      " 328 329 330 331 332 333 335 336 339 342 343 344 346 348 350 351 353 354\n",
      " 356 357 358 359 360 361 362 363 364 365 367 368 369 370 371 372 375 378\n",
      " 379 380 382 383 384 385 386 387 388 389 390 391 392 393 394 395 396 397\n",
      " 398 399 400 401 402 403 404 405 406 407 408 409 410 411 412 413 414 417\n",
      " 418 419 420 421 422 423 424 426 427 428 429 430 431 432 433 434 435 436\n",
      " 438 439 440 441 443 444 445 446 447 448 449 450 451 452 453 454 455 456\n",
      " 457 458 459 460 461 462 465 467 468 469 470 471 472 473 474 475 476 477\n",
      " 478 479 481 482 483 484 485 486 487 490 492 494 496 497 502 503 504 505\n",
      " 506 507 508 509 510 511 512 513 514 515 516 518 519 520 521 523 524 525\n",
      " 526 527 528 529 531 532 533 535 536 537 538 539 540 541 542 543 544 545\n",
      " 546 547 549 550 551 552 553 554 555 556 557 558 559 560 562 563 564 567\n",
      " 568 570 571 572 574 576 577 578 579 580 581 582 583 585 586 588 591 592\n",
      " 593 594 595 596 597 598 600 602 603 604 605 606 607 608 609 610 611 613\n",
      " 614 615 616 617 618 622 623 624 625 627 628 629 630 631 632 633 634 635\n",
      " 636 637 638 640 641 642 643 646 647 648 650 651 652 654 655 656 657 658\n",
      " 660 661 662 665 666 667 668 669 671 672 674 675 676 677 678 679 680 681\n",
      " 682 683 684 685 686 687 688 689 690 691 692 693 696 697 698 699 700 701\n",
      " 702 703 705 706 707 710 711 712 713 714 718 719 720 721 722 723 724 725\n",
      " 726 728 729 730 731 732 734 736 737 738 739 740 741 742 743 744 745 746\n",
      " 747 748 749 750 751 752 753 754 755 756 757 758 759 760 762 763 764 765\n",
      " 766 767 768 769 770 773 774 775 776 777 778 779 780 781 782 783 784 786\n",
      " 788 789 790 791 793 794 795 797 798 800 802 803 804 805 807 808 809 810\n",
      " 811 812 813 814 815 817 818 819 820 821 822 823 824 825 826 827 828 829\n",
      " 831 833 837 838 839 840 841 842 843 845 846 847 848 849 850 851 853 854\n",
      " 855 856 857 858 859 860 862 863 865 867 868 869 870 871 874 875 876 877\n",
      " 878 880 882 883 884 885 886 887 888 889 890] Validation: [ 17  18  35  37  42  43  44  45  47  48  50  54  56  60  61  64  66  68\n",
      "  77  78  80  82  85  90  99 109 110 111 119 124 125 129 131 135 138 141\n",
      " 142 148 151 152 158 160 162 164 179 180 184 196 197 208 212 213 214 219\n",
      " 230 234 236 237 238 249 250 252 253 266 271 277 282 283 284 287 291 292\n",
      " 299 306 309 312 334 337 338 340 341 345 347 349 352 355 366 373 374 376\n",
      " 377 381 415 416 425 437 442 463 464 466 480 488 489 491 493 495 498 499\n",
      " 500 501 517 522 530 534 548 561 565 566 569 573 575 584 587 589 590 599\n",
      " 601 612 619 620 621 626 639 644 645 649 653 659 663 664 670 673 694 695\n",
      " 704 708 709 715 716 717 727 733 735 761 771 772 785 787 792 796 799 801\n",
      " 806 816 830 832 834 835 836 844 852 861 864 866 872 873 879 881]\n",
      "Train: [  0   1   2   3   5   6   7   8   9  10  12  13  14  15  17  18  19  20\n",
      "  21  22  24  25  26  28  29  30  31  33  34  35  36  37  38  39  40  41\n",
      "  42  43  44  45  46  47  48  49  50  51  52  54  56  57  58  59  60  61\n",
      "  62  63  64  65  66  67  68  71  72  73  74  75  76  77  78  80  81  82\n",
      "  84  85  86  87  88  89  90  91  92  93  94  95  97  99 100 103 107 108\n",
      " 109 110 111 112 115 117 118 119 120 121 122 123 124 125 127 128 129 130\n",
      " 131 132 135 137 138 139 140 141 142 143 145 146 147 148 149 150 151 152\n",
      " 153 154 155 156 158 160 161 162 163 164 165 166 167 171 172 173 174 177\n",
      " 178 179 180 182 183 184 185 187 188 189 190 191 192 193 194 196 197 199\n",
      " 200 201 202 204 205 207 208 209 210 211 212 213 214 215 216 217 218 219\n",
      " 221 223 225 226 227 228 230 231 232 234 236 237 238 239 240 241 242 243\n",
      " 244 245 246 249 250 251 252 253 254 255 256 257 258 259 261 262 263 264\n",
      " 266 268 269 270 271 273 274 275 276 277 278 279 280 281 282 283 284 286\n",
      " 287 288 290 291 292 294 296 298 299 300 301 304 305 306 309 310 312 313\n",
      " 314 316 317 318 319 321 322 324 329 330 331 333 334 335 337 338 339 340\n",
      " 341 342 343 344 345 346 347 348 349 351 352 354 355 357 360 361 363 365\n",
      " 366 367 369 371 372 373 374 375 376 377 378 380 381 382 383 384 385 386\n",
      " 387 388 390 392 393 394 395 396 397 398 399 401 403 404 405 406 407 408\n",
      " 409 410 412 413 414 415 416 417 420 421 422 424 425 426 427 428 431 434\n",
      " 435 436 437 438 439 441 442 444 445 446 447 448 449 451 452 453 454 455\n",
      " 456 457 458 459 460 461 462 463 464 465 466 468 469 470 471 472 473 474\n",
      " 475 476 478 479 480 481 485 486 487 488 489 490 491 492 493 494 495 496\n",
      " 497 498 499 500 501 502 503 504 505 508 509 512 513 516 517 518 519 520\n",
      " 521 522 523 524 525 526 527 528 530 531 532 534 535 536 537 538 540 543\n",
      " 545 547 548 549 550 553 554 555 558 559 560 561 562 563 564 565 566 567\n",
      " 569 570 571 572 573 574 575 577 578 579 580 581 582 583 584 585 587 588\n",
      " 589 590 591 593 594 597 598 599 601 602 603 604 605 606 607 609 610 611\n",
      " 612 613 614 616 617 618 619 620 621 622 624 625 626 627 628 629 631 632\n",
      " 633 634 635 636 637 638 639 640 641 642 643 644 645 646 648 649 650 653\n",
      " 654 657 658 659 660 661 662 663 664 665 667 668 669 670 671 673 674 675\n",
      " 676 677 678 679 680 681 682 683 684 685 689 691 692 694 695 696 698 699\n",
      " 700 701 702 704 705 706 708 709 710 711 712 713 714 715 716 717 718 719\n",
      " 721 722 724 725 726 727 728 729 730 731 732 733 734 735 736 739 740 741\n",
      " 743 744 746 747 748 749 751 752 753 754 755 756 758 759 760 761 763 764\n",
      " 765 766 767 768 769 770 771 772 773 774 775 776 779 782 783 784 785 786\n",
      " 787 788 789 791 792 793 794 796 797 798 799 800 801 802 803 804 805 806\n",
      " 807 808 809 810 811 812 813 814 815 816 817 818 819 820 822 824 825 827\n",
      " 828 829 830 831 832 833 834 835 836 837 838 840 841 843 844 847 849 851\n",
      " 852 853 854 856 857 859 860 861 862 864 865 866 867 869 870 872 873 874\n",
      " 875 877 879 881 882 883 884 886 887 888 889] Validation: [  4  11  16  23  27  32  53  55  69  70  79  83  96  98 101 102 104 105\n",
      " 106 113 114 116 126 133 134 136 144 157 159 168 169 170 175 176 181 186\n",
      " 195 198 203 206 220 222 224 229 233 235 247 248 260 265 267 272 285 289\n",
      " 293 295 297 302 303 307 308 311 315 320 323 325 326 327 328 332 336 350\n",
      " 353 356 358 359 362 364 368 370 379 389 391 400 402 411 418 419 423 429\n",
      " 430 432 433 440 443 450 467 477 482 483 484 506 507 510 511 514 515 529\n",
      " 533 539 541 542 544 546 551 552 556 557 568 576 586 592 595 596 600 608\n",
      " 615 623 630 647 651 652 655 656 666 672 686 687 688 690 693 697 703 707\n",
      " 720 723 737 738 742 745 750 757 762 777 778 780 781 790 795 821 823 826\n",
      " 839 842 845 846 848 850 855 858 863 868 871 876 878 880 885 890]\n"
     ]
    }
   ],
   "source": [
    "from sklearn.linear_model import LogisticRegression\n",
    "from sklearn.metrics import accuracy_score\n",
    "import numpy as np\n",
    "\n",
    "from sklearn.model_selection import RepeatedKFold\n",
    "scores_test = []\n",
    "model = LogisticRegression(solver='lbfgs', penalty='l2', random_state=1)\n",
    "rkf = RepeatedKFold(n_splits=5, n_repeats=1, random_state=None)\n",
    "# X is the feature set and y is the target\n",
    "for train_index, test_index in rkf.split(x):\n",
    "    print(\"Train:\", train_index, \"Validation:\", test_index)\n",
    "    x_train, x_test = x[train_index], x[test_index]\n",
    "    #print(x_train.shape, x_test.shape)\n",
    "    y_train, y_test = y[train_index], y[test_index]\n",
    "    y_train = y_train.ravel()\n",
    "    y_test = y_test.ravel()\n",
    "    \n",
    "    #print(y_train.shape, y_test.shape)\n",
    "    model.fit(x_train, y_train)\n",
    "    ypred = model.predict(x_test)\n",
    "    scores_test.append(model.score(x_test, y_test))"
   ]
  },
  {
   "cell_type": "code",
   "execution_count": 25,
   "metadata": {
    "scrolled": true
   },
   "outputs": [
    {
     "name": "stdout",
     "output_type": "stream",
     "text": [
      "[0.7597765363128491, 0.7584269662921348, 0.8089887640449438, 0.8370786516853933, 0.8033707865168539]\n"
     ]
    }
   ],
   "source": [
    "print(scores_test)"
   ]
  },
  {
   "cell_type": "code",
   "execution_count": 26,
   "metadata": {},
   "outputs": [
    {
     "name": "stdout",
     "output_type": "stream",
     "text": [
      "0.793528340970435\n"
     ]
    }
   ],
   "source": [
    "scores_test = numpy.array(scores_test)\n",
    "print(numpy.mean(scores_test))"
   ]
  },
  {
   "cell_type": "code",
   "execution_count": 28,
   "metadata": {},
   "outputs": [
    {
     "name": "stdout",
     "output_type": "stream",
     "text": [
      "[ 64 128 192 256 320 384 448 512 576 640]\n"
     ]
    },
    {
     "data": {
      "image/png": "[encoded data removed]",
      "text/plain": [
       "<Figure size 432x288 with 1 Axes>"
      ]
     },
     "metadata": {
      "needs_background": "light"
     },
     "output_type": "display_data"
    }
   ],
   "source": [
    "# We are using make_pipeline to define a pipeline that will use LogisticRegression with its attributes \n",
    "# on different data sizes. We start with 10% of the data then increase it at every step by 10% and stop when we\n",
    "# consider all the data. \n",
    "\n",
    "from sklearn.pipeline import make_pipeline\n",
    "from sklearn.model_selection import learning_curve\n",
    "\n",
    "pipe_lr = make_pipeline(LogisticRegression(penalty='l2', random_state=1,\n",
    "                                           solver='lbfgs', max_iter=10000))\n",
    "\n",
    "train_sizes, train_scores, test_scores = learning_curve(estimator=pipe_lr,\n",
    "                               X=x_train,\n",
    "                               y=y_train,\n",
    "                               train_sizes=np.linspace(0.1, 1.0, 10),\n",
    "                               cv=10,\n",
    "                               n_jobs=1) \n",
    "\n",
    "train_mean = np.mean(train_scores, axis=1)\n",
    "train_std = np.std(train_scores, axis=1)\n",
    "test_mean = np.mean(test_scores, axis=1)\n",
    "test_std = np.std(test_scores, axis=1)\n",
    "\n",
    "print(train_sizes)\n",
    "\n",
    "plt.plot(train_sizes, train_mean,\n",
    "         color='blue', marker='o',\n",
    "         markersize=5, label='Training accuracy')\n",
    "\n",
    "plt.fill_between(train_sizes,\n",
    "                 train_mean + train_std,\n",
    "                 train_mean - train_std,\n",
    "                 alpha=0.15, color='blue')\n",
    "\n",
    "plt.plot(train_sizes, test_mean,\n",
    "         color='green', linestyle='--',\n",
    "         marker='s', markersize=5,\n",
    "         label='Validation accuracy')\n",
    "\n",
    "plt.fill_between(train_sizes,\n",
    "                 test_mean + test_std,\n",
    "                 test_mean - test_std,\n",
    "                 alpha=0.15, color='green')\n",
    "\n",
    "plt.grid()\n",
    "plt.xlabel('Number of training examples')\n",
    "plt.ylabel('Accuracy')\n",
    "plt.legend(loc='lower right')\n",
    "plt.ylim([0.7, 0.83])\n",
    "plt.tight_layout()\n",
    "# plt.savefig('images/06_05.png', dpi=300)\n",
    "plt.show()"
   ]
  },
  {
   "cell_type": "markdown",
   "metadata": {},
   "source": [
    "### Extra Tree Classifier\n",
    "\n",
    "Extra Trees is like Random Forest, in that it builds multiple trees and splits nodes using random subsets of features, but with two key differences: it does not bootstrap observations (meaning it samples without replacement), and nodes are split on random splits, not best splits. "
   ]
  },
  {
   "cell_type": "code",
   "execution_count": 42,
   "metadata": {},
   "outputs": [],
   "source": [
    "from sklearn.ensemble import ExtraTreesClassifier "
   ]
  },
  {
   "cell_type": "code",
   "execution_count": 48,
   "metadata": {},
   "outputs": [
    {
     "data": {
      "text/plain": [
       "ExtraTreesClassifier(bootstrap=False, class_weight=None, criterion='entropy',\n",
       "                     max_depth=None, max_features=2, max_leaf_nodes=None,\n",
       "                     min_impurity_decrease=0.0, min_impurity_split=None,\n",
       "                     min_samples_leaf=1, min_samples_split=2,\n",
       "                     min_weight_fraction_leaf=0.0, n_estimators=5, n_jobs=None,\n",
       "                     oob_score=False, random_state=2, verbose=0,\n",
       "                     warm_start=False)"
      ]
     },
     "execution_count": 48,
     "metadata": {},
     "output_type": "execute_result"
    }
   ],
   "source": [
    "extra_tree_forest = ExtraTreesClassifier(n_estimators = 5, \n",
    "                                        criterion ='entropy', max_features = 2, random_state=2) \n",
    "  \n",
    "# Training the model \n",
    "dfy = np.array(dfy).ravel()\n",
    "extra_tree_forest.fit(dfx, dfy) "
   ]
  },
  {
   "cell_type": "code",
   "execution_count": 52,
   "metadata": {},
   "outputs": [
    {
     "name": "stdout",
     "output_type": "stream",
     "text": [
      "[0.4705246  0.33170388 0.15739352 0.040378  ]\n",
      "[0.03111371 0.00480494 0.03389417 0.0072374 ]\n"
     ]
    }
   ],
   "source": [
    "# Computing the importance of each feature \n",
    "feature_importance = extra_tree_forest.feature_importances_ \n",
    "\n",
    "print(feature_importance)  \n",
    "# Normalizing the individual importances \n",
    "feature_importance_normalized = np.std([tree.feature_importances_ for tree in \n",
    "                                        extra_tree_forest.estimators_], \n",
    "                                        axis = 0) \n",
    "# print(feature_importance_normalized)  # this might be optional\n",
    "\n",
    "# \"Age\", \"Gender\", \"family_size\", \"Embarked\""
   ]
  },
  {
   "cell_type": "code",
   "execution_count": 53,
   "metadata": {},
   "outputs": [
    {
     "data": {
      "image/png": "[encoded data removed]",
      "text/plain": [
       "<Figure size 432x288 with 1 Axes>"
      ]
     },
     "metadata": {
      "needs_background": "light"
     },
     "output_type": "display_data"
    }
   ],
   "source": [
    "#plt.bar(dfx.columns, feature_importance_normalized) \n",
    "plt.bar(dfx.columns, feature_importance) \n",
    "plt.xlabel('Feature Labels') \n",
    "plt.ylabel('Feature Importances') \n",
    "plt.title('Comparison of different Feature Importances') \n",
    "plt.show() "
   ]
  },
  {
   "cell_type": "markdown",
   "metadata": {},
   "source": [
    "# Ramdom forest\n",
    "\n",
    "5 features, rows are 1000\n",
    "location (L), sq-ft (S), year built (Y), bed rooms (B), bathrooms (BA)\n",
    "\n",
    "target price\n",
    "\n",
    "features = S, Y, B, size=500\n",
    "build a tree - 1\n",
    "\n",
    "features = S, Y, BA, size=500\n",
    "build a tree - 2"
   ]
  },
  {
   "cell_type": "code",
   "execution_count": null,
   "metadata": {},
   "outputs": [],
   "source": []
  }
 ],
 "metadata": {
  "kernelspec": {
   "display_name": "Python 3",
   "language": "python",
   "name": "python3"
  },
  "language_info": {
   "codemirror_mode": {
    "name": "ipython",
    "version": 3
   },
   "file_extension": ".py",
   "mimetype": "text/x-python",
   "name": "python",
   "nbconvert_exporter": "python",
   "pygments_lexer": "ipython3",
   "version": "3.7.4"
  },
  "widgets": {
   "state": {},
   "version": "1.1.2"
  }
 },
 "nbformat": 4,
 "nbformat_minor": 2
}
