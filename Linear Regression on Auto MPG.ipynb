{
 "cells": [
  {
   "cell_type": "code",
   "execution_count": 1,
   "metadata": {},
   "outputs": [],
   "source": [
    "import pandas as pd\n",
    "import numpy as np\n",
    "from sklearn import linear_model\n",
    "from sklearn.model_selection import train_test_split"
   ]
  },
  {
   "cell_type": "code",
   "execution_count": 2,
   "metadata": {},
   "outputs": [
    {
     "name": "stdout",
     "output_type": "stream",
     "text": [
      "    mpg  cylinder  displacement horse power  weight  acceleration  model year  \\\n",
      "0  18.0         8         307.0         130    3504          12.0          70   \n",
      "1  15.0         8         350.0         165    3693          11.5          70   \n",
      "2  18.0         8         318.0         150    3436          11.0          70   \n",
      "3  16.0         8         304.0         150    3433          12.0          70   \n",
      "4  17.0         8         302.0         140    3449          10.5          70   \n",
      "\n",
      "   origin                   car name  \n",
      "0       1  chevrolet chevelle malibu  \n",
      "1       1          buick skylark 320  \n",
      "2       1         plymouth satellite  \n",
      "3       1              amc rebel sst  \n",
      "4       1                ford torino  \n"
     ]
    }
   ],
   "source": [
    "auto = pd.read_csv('auto_mpg.csv')\n",
    "print(auto.head())"
   ]
  },
  {
   "cell_type": "code",
   "execution_count": 3,
   "metadata": {},
   "outputs": [
    {
     "name": "stdout",
     "output_type": "stream",
     "text": [
      "(398, 9)\n"
     ]
    }
   ],
   "source": [
    "print(auto.shape)"
   ]
  },
  {
   "cell_type": "code",
   "execution_count": 4,
   "metadata": {},
   "outputs": [
    {
     "data": {
      "text/html": [
       "<div>\n",
       "<style scoped>\n",
       "    .dataframe tbody tr th:only-of-type {\n",
       "        vertical-align: middle;\n",
       "    }\n",
       "\n",
       "    .dataframe tbody tr th {\n",
       "        vertical-align: top;\n",
       "    }\n",
       "\n",
       "    .dataframe thead th {\n",
       "        text-align: right;\n",
       "    }\n",
       "</style>\n",
       "<table border=\"1\" class=\"dataframe\">\n",
       "  <thead>\n",
       "    <tr style=\"text-align: right;\">\n",
       "      <th></th>\n",
       "      <th>mpg</th>\n",
       "      <th>cylinder</th>\n",
       "      <th>displacement</th>\n",
       "      <th>horse power</th>\n",
       "      <th>weight</th>\n",
       "      <th>acceleration</th>\n",
       "      <th>model year</th>\n",
       "      <th>origin</th>\n",
       "      <th>car name</th>\n",
       "    </tr>\n",
       "  </thead>\n",
       "  <tbody>\n",
       "    <tr>\n",
       "      <td>0</td>\n",
       "      <td>18.0</td>\n",
       "      <td>8</td>\n",
       "      <td>307.0</td>\n",
       "      <td>130</td>\n",
       "      <td>3504</td>\n",
       "      <td>12.0</td>\n",
       "      <td>70</td>\n",
       "      <td>1</td>\n",
       "      <td>chevrolet chevelle malibu</td>\n",
       "    </tr>\n",
       "    <tr>\n",
       "      <td>1</td>\n",
       "      <td>15.0</td>\n",
       "      <td>8</td>\n",
       "      <td>350.0</td>\n",
       "      <td>165</td>\n",
       "      <td>3693</td>\n",
       "      <td>11.5</td>\n",
       "      <td>70</td>\n",
       "      <td>1</td>\n",
       "      <td>buick skylark 320</td>\n",
       "    </tr>\n",
       "    <tr>\n",
       "      <td>2</td>\n",
       "      <td>18.0</td>\n",
       "      <td>8</td>\n",
       "      <td>318.0</td>\n",
       "      <td>150</td>\n",
       "      <td>3436</td>\n",
       "      <td>11.0</td>\n",
       "      <td>70</td>\n",
       "      <td>1</td>\n",
       "      <td>plymouth satellite</td>\n",
       "    </tr>\n",
       "    <tr>\n",
       "      <td>3</td>\n",
       "      <td>16.0</td>\n",
       "      <td>8</td>\n",
       "      <td>304.0</td>\n",
       "      <td>150</td>\n",
       "      <td>3433</td>\n",
       "      <td>12.0</td>\n",
       "      <td>70</td>\n",
       "      <td>1</td>\n",
       "      <td>amc rebel sst</td>\n",
       "    </tr>\n",
       "    <tr>\n",
       "      <td>4</td>\n",
       "      <td>17.0</td>\n",
       "      <td>8</td>\n",
       "      <td>302.0</td>\n",
       "      <td>140</td>\n",
       "      <td>3449</td>\n",
       "      <td>10.5</td>\n",
       "      <td>70</td>\n",
       "      <td>1</td>\n",
       "      <td>ford torino</td>\n",
       "    </tr>\n",
       "  </tbody>\n",
       "</table>\n",
       "</div>"
      ],
      "text/plain": [
       "    mpg  cylinder  displacement horse power  weight  acceleration  model year  \\\n",
       "0  18.0         8         307.0         130    3504          12.0          70   \n",
       "1  15.0         8         350.0         165    3693          11.5          70   \n",
       "2  18.0         8         318.0         150    3436          11.0          70   \n",
       "3  16.0         8         304.0         150    3433          12.0          70   \n",
       "4  17.0         8         302.0         140    3449          10.5          70   \n",
       "\n",
       "   origin                   car name  \n",
       "0       1  chevrolet chevelle malibu  \n",
       "1       1          buick skylark 320  \n",
       "2       1         plymouth satellite  \n",
       "3       1              amc rebel sst  \n",
       "4       1                ford torino  "
      ]
     },
     "execution_count": 4,
     "metadata": {},
     "output_type": "execute_result"
    }
   ],
   "source": [
    "auto.head()"
   ]
  },
  {
   "cell_type": "code",
   "execution_count": 5,
   "metadata": {},
   "outputs": [],
   "source": [
    "# creating two separate series from displacement and mpg columns \n",
    "\n",
    "auto_disp = auto['displacement'].astype(float)\n",
    "auto_mpg = auto['mpg'].astype(float)"
   ]
  },
  {
   "cell_type": "code",
   "execution_count": 6,
   "metadata": {},
   "outputs": [
    {
     "name": "stdout",
     "output_type": "stream",
     "text": [
      "<class 'pandas.core.series.Series'>\n"
     ]
    }
   ],
   "source": [
    "print(type(auto_disp))"
   ]
  },
  {
   "cell_type": "code",
   "execution_count": 7,
   "metadata": {},
   "outputs": [
    {
     "name": "stdout",
     "output_type": "stream",
     "text": [
      "0    307.0\n",
      "1    350.0\n",
      "2    318.0\n",
      "3    304.0\n",
      "4    302.0\n",
      "Name: displacement, dtype: float64\n"
     ]
    }
   ],
   "source": [
    "print(auto_disp.head())"
   ]
  },
  {
   "cell_type": "code",
   "execution_count": 8,
   "metadata": {},
   "outputs": [
    {
     "name": "stdout",
     "output_type": "stream",
     "text": [
      "0    18.0\n",
      "1    15.0\n",
      "2    18.0\n",
      "3    16.0\n",
      "4    17.0\n",
      "Name: mpg, dtype: float64\n"
     ]
    }
   ],
   "source": [
    "print(auto_mpg.head())"
   ]
  },
  {
   "cell_type": "code",
   "execution_count": 9,
   "metadata": {},
   "outputs": [
    {
     "name": "stdout",
     "output_type": "stream",
     "text": [
      "[100, 225]\n"
     ]
    }
   ],
   "source": [
    "# list comprehension example\n",
    "\n",
    "x = [10, 15]\n",
    "square_x = [i*i for i in x] \n",
    "print(square_x)"
   ]
  },
  {
   "cell_type": "code",
   "execution_count": 10,
   "metadata": {},
   "outputs": [
    {
     "name": "stdout",
     "output_type": "stream",
     "text": [
      "-----Displacement Stats-----\n",
      "count    398.000000\n",
      "mean       1.934259\n",
      "std        1.042698\n",
      "min        0.680000\n",
      "25%        1.042500\n",
      "50%        1.485000\n",
      "75%        2.620000\n",
      "max        4.550000\n",
      "Name: displacement, dtype: float64\n",
      "-----Mileage Stats-----\n",
      "count    398.000000\n",
      "mean       0.235146\n",
      "std        0.078160\n",
      "min        0.090000\n",
      "25%        0.175000\n",
      "50%        0.230000\n",
      "75%        0.290000\n",
      "max        0.466000\n",
      "Name: mpg, dtype: float64\n"
     ]
    }
   ],
   "source": [
    "# rescaling the values in auto_disp and auto_mpg series so that they are small numbers.\n",
    "\n",
    "# lambda function variables or values to the left of : are inputs and values on the right of the : are output\n",
    "\n",
    "auto_disp = auto_disp.apply(lambda x: x/100)\n",
    "print(\"-----Displacement Stats-----\" )\n",
    "print(auto_disp.describe())\n",
    "\n",
    "\n",
    "auto_mpg = auto_mpg.apply(lambda x: x/100)\n",
    "print(\"-----Mileage Stats-----\" )\n",
    "print(auto_mpg.describe())"
   ]
  },
  {
   "cell_type": "code",
   "execution_count": 11,
   "metadata": {},
   "outputs": [
    {
     "name": "stdout",
     "output_type": "stream",
     "text": [
      "0    3.07\n",
      "1    3.50\n",
      "2    3.18\n",
      "3    3.04\n",
      "4    3.02\n",
      "Name: displacement, dtype: float64\n"
     ]
    }
   ],
   "source": [
    "print(auto_disp.head())"
   ]
  },
  {
   "cell_type": "code",
   "execution_count": 12,
   "metadata": {},
   "outputs": [
    {
     "name": "stdout",
     "output_type": "stream",
     "text": [
      "0    0.18\n",
      "1    0.15\n",
      "2    0.18\n",
      "3    0.16\n",
      "4    0.17\n",
      "Name: mpg, dtype: float64\n"
     ]
    }
   ],
   "source": [
    "print(auto_mpg.head())"
   ]
  },
  {
   "cell_type": "markdown",
   "metadata": {},
   "source": [
    "What is correlation? \n",
    "\n",
    "Correlation describes the relationship between two variables. \n",
    "\n",
    "Correlation coefficient is a value that describes the strenght of the \n",
    "relationship betweent two variables. \n",
    "\n",
    "Correlation graph\n",
    "\n",
    "<img src=\"correlation_graph.png\" width=400, height=300>\n",
    "\n",
    "Correlation coefficient formula\n",
    "\n",
    "<img src=\"correlation_formula.png\" width=400, height=300>\n",
    "\n",
    "Values of $r$ range from -1 to 1, -1 represents inverse or negative correlation, 1 represents direct or positive correlation. \n",
    "\n",
    "Reference - https://www.wallstreetmojo.com/correlation-coefficient-formula/\n",
    "\n",
    "Which features to select?\n",
    "\n",
    "Choose features that are not correlated. "
   ]
  },
  {
   "cell_type": "code",
   "execution_count": 13,
   "metadata": {},
   "outputs": [
    {
     "data": {
      "text/plain": [
       "<Figure size 1750x1750 with 56 Axes>"
      ]
     },
     "metadata": {},
     "output_type": "display_data"
    },
    {
     "data": {
      "text/html": [
       "<style  type=\"text/css\" >\n",
       "    #T_19f99800_8dd0_11eb_b978_8dd4da323518row0_col0 {\n",
       "            background-color:  #b40426;\n",
       "            color:  #f1f1f1;\n",
       "        }    #T_19f99800_8dd0_11eb_b978_8dd4da323518row0_col1 {\n",
       "            background-color:  #3b4cc0;\n",
       "            color:  #f1f1f1;\n",
       "        }    #T_19f99800_8dd0_11eb_b978_8dd4da323518row0_col2 {\n",
       "            background-color:  #3b4cc0;\n",
       "            color:  #f1f1f1;\n",
       "        }    #T_19f99800_8dd0_11eb_b978_8dd4da323518row0_col3 {\n",
       "            background-color:  #3b4cc0;\n",
       "            color:  #f1f1f1;\n",
       "        }    #T_19f99800_8dd0_11eb_b978_8dd4da323518row0_col4 {\n",
       "            background-color:  #f4c5ad;\n",
       "            color:  #000000;\n",
       "        }    #T_19f99800_8dd0_11eb_b978_8dd4da323518row0_col5 {\n",
       "            background-color:  #f7af91;\n",
       "            color:  #000000;\n",
       "        }    #T_19f99800_8dd0_11eb_b978_8dd4da323518row0_col6 {\n",
       "            background-color:  #f6a283;\n",
       "            color:  #000000;\n",
       "        }    #T_19f99800_8dd0_11eb_b978_8dd4da323518row1_col0 {\n",
       "            background-color:  #4358cb;\n",
       "            color:  #f1f1f1;\n",
       "        }    #T_19f99800_8dd0_11eb_b978_8dd4da323518row1_col1 {\n",
       "            background-color:  #b40426;\n",
       "            color:  #f1f1f1;\n",
       "        }    #T_19f99800_8dd0_11eb_b978_8dd4da323518row1_col2 {\n",
       "            background-color:  #bd1f2d;\n",
       "            color:  #f1f1f1;\n",
       "        }    #T_19f99800_8dd0_11eb_b978_8dd4da323518row1_col3 {\n",
       "            background-color:  #c83836;\n",
       "            color:  #f1f1f1;\n",
       "        }    #T_19f99800_8dd0_11eb_b978_8dd4da323518row1_col4 {\n",
       "            background-color:  #4257c9;\n",
       "            color:  #f1f1f1;\n",
       "        }    #T_19f99800_8dd0_11eb_b978_8dd4da323518row1_col5 {\n",
       "            background-color:  #3f53c6;\n",
       "            color:  #f1f1f1;\n",
       "        }    #T_19f99800_8dd0_11eb_b978_8dd4da323518row1_col6 {\n",
       "            background-color:  #4358cb;\n",
       "            color:  #f1f1f1;\n",
       "        }    #T_19f99800_8dd0_11eb_b978_8dd4da323518row2_col0 {\n",
       "            background-color:  #3e51c5;\n",
       "            color:  #f1f1f1;\n",
       "        }    #T_19f99800_8dd0_11eb_b978_8dd4da323518row2_col1 {\n",
       "            background-color:  #be242e;\n",
       "            color:  #f1f1f1;\n",
       "        }    #T_19f99800_8dd0_11eb_b978_8dd4da323518row2_col2 {\n",
       "            background-color:  #b40426;\n",
       "            color:  #f1f1f1;\n",
       "        }    #T_19f99800_8dd0_11eb_b978_8dd4da323518row2_col3 {\n",
       "            background-color:  #c12b30;\n",
       "            color:  #f1f1f1;\n",
       "        }    #T_19f99800_8dd0_11eb_b978_8dd4da323518row2_col4 {\n",
       "            background-color:  #3b4cc0;\n",
       "            color:  #f1f1f1;\n",
       "        }    #T_19f99800_8dd0_11eb_b978_8dd4da323518row2_col5 {\n",
       "            background-color:  #3b4cc0;\n",
       "            color:  #f1f1f1;\n",
       "        }    #T_19f99800_8dd0_11eb_b978_8dd4da323518row2_col6 {\n",
       "            background-color:  #3b4cc0;\n",
       "            color:  #f1f1f1;\n",
       "        }    #T_19f99800_8dd0_11eb_b978_8dd4da323518row3_col0 {\n",
       "            background-color:  #3b4cc0;\n",
       "            color:  #f1f1f1;\n",
       "        }    #T_19f99800_8dd0_11eb_b978_8dd4da323518row3_col1 {\n",
       "            background-color:  #c83836;\n",
       "            color:  #f1f1f1;\n",
       "        }    #T_19f99800_8dd0_11eb_b978_8dd4da323518row3_col2 {\n",
       "            background-color:  #c12b30;\n",
       "            color:  #f1f1f1;\n",
       "        }    #T_19f99800_8dd0_11eb_b978_8dd4da323518row3_col3 {\n",
       "            background-color:  #b40426;\n",
       "            color:  #f1f1f1;\n",
       "        }    #T_19f99800_8dd0_11eb_b978_8dd4da323518row3_col4 {\n",
       "            background-color:  #536edd;\n",
       "            color:  #000000;\n",
       "        }    #T_19f99800_8dd0_11eb_b978_8dd4da323518row3_col5 {\n",
       "            background-color:  #485fd1;\n",
       "            color:  #f1f1f1;\n",
       "        }    #T_19f99800_8dd0_11eb_b978_8dd4da323518row3_col6 {\n",
       "            background-color:  #3f53c6;\n",
       "            color:  #f1f1f1;\n",
       "        }    #T_19f99800_8dd0_11eb_b978_8dd4da323518row4_col0 {\n",
       "            background-color:  #f7b396;\n",
       "            color:  #000000;\n",
       "        }    #T_19f99800_8dd0_11eb_b978_8dd4da323518row4_col1 {\n",
       "            background-color:  #6a8bef;\n",
       "            color:  #000000;\n",
       "        }    #T_19f99800_8dd0_11eb_b978_8dd4da323518row4_col2 {\n",
       "            background-color:  #6788ee;\n",
       "            color:  #000000;\n",
       "        }    #T_19f99800_8dd0_11eb_b978_8dd4da323518row4_col3 {\n",
       "            background-color:  #84a7fc;\n",
       "            color:  #000000;\n",
       "        }    #T_19f99800_8dd0_11eb_b978_8dd4da323518row4_col4 {\n",
       "            background-color:  #b40426;\n",
       "            color:  #f1f1f1;\n",
       "        }    #T_19f99800_8dd0_11eb_b978_8dd4da323518row4_col5 {\n",
       "            background-color:  #d7dce3;\n",
       "            color:  #000000;\n",
       "        }    #T_19f99800_8dd0_11eb_b978_8dd4da323518row4_col6 {\n",
       "            background-color:  #dedcdb;\n",
       "            color:  #000000;\n",
       "        }    #T_19f99800_8dd0_11eb_b978_8dd4da323518row5_col0 {\n",
       "            background-color:  #f29072;\n",
       "            color:  #000000;\n",
       "        }    #T_19f99800_8dd0_11eb_b978_8dd4da323518row5_col1 {\n",
       "            background-color:  #89acfd;\n",
       "            color:  #000000;\n",
       "        }    #T_19f99800_8dd0_11eb_b978_8dd4da323518row5_col2 {\n",
       "            background-color:  #89acfd;\n",
       "            color:  #000000;\n",
       "        }    #T_19f99800_8dd0_11eb_b978_8dd4da323518row5_col3 {\n",
       "            background-color:  #9abbff;\n",
       "            color:  #000000;\n",
       "        }    #T_19f99800_8dd0_11eb_b978_8dd4da323518row5_col4 {\n",
       "            background-color:  #e6d7cf;\n",
       "            color:  #000000;\n",
       "        }    #T_19f99800_8dd0_11eb_b978_8dd4da323518row5_col5 {\n",
       "            background-color:  #b40426;\n",
       "            color:  #f1f1f1;\n",
       "        }    #T_19f99800_8dd0_11eb_b978_8dd4da323518row5_col6 {\n",
       "            background-color:  #dadce0;\n",
       "            color:  #000000;\n",
       "        }    #T_19f99800_8dd0_11eb_b978_8dd4da323518row6_col0 {\n",
       "            background-color:  #f39577;\n",
       "            color:  #000000;\n",
       "        }    #T_19f99800_8dd0_11eb_b978_8dd4da323518row6_col1 {\n",
       "            background-color:  #5f7fe8;\n",
       "            color:  #000000;\n",
       "        }    #T_19f99800_8dd0_11eb_b978_8dd4da323518row6_col2 {\n",
       "            background-color:  #5b7ae5;\n",
       "            color:  #000000;\n",
       "        }    #T_19f99800_8dd0_11eb_b978_8dd4da323518row6_col3 {\n",
       "            background-color:  #6687ed;\n",
       "            color:  #000000;\n",
       "        }    #T_19f99800_8dd0_11eb_b978_8dd4da323518row6_col4 {\n",
       "            background-color:  #d9dce1;\n",
       "            color:  #000000;\n",
       "        }    #T_19f99800_8dd0_11eb_b978_8dd4da323518row6_col5 {\n",
       "            background-color:  #c0d4f5;\n",
       "            color:  #000000;\n",
       "        }    #T_19f99800_8dd0_11eb_b978_8dd4da323518row6_col6 {\n",
       "            background-color:  #b40426;\n",
       "            color:  #f1f1f1;\n",
       "        }</style><table id=\"T_19f99800_8dd0_11eb_b978_8dd4da323518\" ><thead>    <tr>        <th class=\"blank level0\" ></th>        <th class=\"col_heading level0 col0\" >mpg</th>        <th class=\"col_heading level0 col1\" >cylinder</th>        <th class=\"col_heading level0 col2\" >displacement</th>        <th class=\"col_heading level0 col3\" >weight</th>        <th class=\"col_heading level0 col4\" >acceleration</th>        <th class=\"col_heading level0 col5\" >model year</th>        <th class=\"col_heading level0 col6\" >origin</th>    </tr></thead><tbody>\n",
       "                <tr>\n",
       "                        <th id=\"T_19f99800_8dd0_11eb_b978_8dd4da323518level0_row0\" class=\"row_heading level0 row0\" >mpg</th>\n",
       "                        <td id=\"T_19f99800_8dd0_11eb_b978_8dd4da323518row0_col0\" class=\"data row0 col0\" >1</td>\n",
       "                        <td id=\"T_19f99800_8dd0_11eb_b978_8dd4da323518row0_col1\" class=\"data row0 col1\" >-0.775396</td>\n",
       "                        <td id=\"T_19f99800_8dd0_11eb_b978_8dd4da323518row0_col2\" class=\"data row0 col2\" >-0.804203</td>\n",
       "                        <td id=\"T_19f99800_8dd0_11eb_b978_8dd4da323518row0_col3\" class=\"data row0 col3\" >-0.831741</td>\n",
       "                        <td id=\"T_19f99800_8dd0_11eb_b978_8dd4da323518row0_col4\" class=\"data row0 col4\" >0.420289</td>\n",
       "                        <td id=\"T_19f99800_8dd0_11eb_b978_8dd4da323518row0_col5\" class=\"data row0 col5\" >0.579267</td>\n",
       "                        <td id=\"T_19f99800_8dd0_11eb_b978_8dd4da323518row0_col6\" class=\"data row0 col6\" >0.56345</td>\n",
       "            </tr>\n",
       "            <tr>\n",
       "                        <th id=\"T_19f99800_8dd0_11eb_b978_8dd4da323518level0_row1\" class=\"row_heading level0 row1\" >cylinder</th>\n",
       "                        <td id=\"T_19f99800_8dd0_11eb_b978_8dd4da323518row1_col0\" class=\"data row1 col0\" >-0.775396</td>\n",
       "                        <td id=\"T_19f99800_8dd0_11eb_b978_8dd4da323518row1_col1\" class=\"data row1 col1\" >1</td>\n",
       "                        <td id=\"T_19f99800_8dd0_11eb_b978_8dd4da323518row1_col2\" class=\"data row1 col2\" >0.950721</td>\n",
       "                        <td id=\"T_19f99800_8dd0_11eb_b978_8dd4da323518row1_col3\" class=\"data row1 col3\" >0.896017</td>\n",
       "                        <td id=\"T_19f99800_8dd0_11eb_b978_8dd4da323518row1_col4\" class=\"data row1 col4\" >-0.505419</td>\n",
       "                        <td id=\"T_19f99800_8dd0_11eb_b978_8dd4da323518row1_col5\" class=\"data row1 col5\" >-0.348746</td>\n",
       "                        <td id=\"T_19f99800_8dd0_11eb_b978_8dd4da323518row1_col6\" class=\"data row1 col6\" >-0.562543</td>\n",
       "            </tr>\n",
       "            <tr>\n",
       "                        <th id=\"T_19f99800_8dd0_11eb_b978_8dd4da323518level0_row2\" class=\"row_heading level0 row2\" >displacement</th>\n",
       "                        <td id=\"T_19f99800_8dd0_11eb_b978_8dd4da323518row2_col0\" class=\"data row2 col0\" >-0.804203</td>\n",
       "                        <td id=\"T_19f99800_8dd0_11eb_b978_8dd4da323518row2_col1\" class=\"data row2 col1\" >0.950721</td>\n",
       "                        <td id=\"T_19f99800_8dd0_11eb_b978_8dd4da323518row2_col2\" class=\"data row2 col2\" >1</td>\n",
       "                        <td id=\"T_19f99800_8dd0_11eb_b978_8dd4da323518row2_col3\" class=\"data row2 col3\" >0.932824</td>\n",
       "                        <td id=\"T_19f99800_8dd0_11eb_b978_8dd4da323518row2_col4\" class=\"data row2 col4\" >-0.543684</td>\n",
       "                        <td id=\"T_19f99800_8dd0_11eb_b978_8dd4da323518row2_col5\" class=\"data row2 col5\" >-0.370164</td>\n",
       "                        <td id=\"T_19f99800_8dd0_11eb_b978_8dd4da323518row2_col6\" class=\"data row2 col6\" >-0.609409</td>\n",
       "            </tr>\n",
       "            <tr>\n",
       "                        <th id=\"T_19f99800_8dd0_11eb_b978_8dd4da323518level0_row3\" class=\"row_heading level0 row3\" >weight</th>\n",
       "                        <td id=\"T_19f99800_8dd0_11eb_b978_8dd4da323518row3_col0\" class=\"data row3 col0\" >-0.831741</td>\n",
       "                        <td id=\"T_19f99800_8dd0_11eb_b978_8dd4da323518row3_col1\" class=\"data row3 col1\" >0.896017</td>\n",
       "                        <td id=\"T_19f99800_8dd0_11eb_b978_8dd4da323518row3_col2\" class=\"data row3 col2\" >0.932824</td>\n",
       "                        <td id=\"T_19f99800_8dd0_11eb_b978_8dd4da323518row3_col3\" class=\"data row3 col3\" >1</td>\n",
       "                        <td id=\"T_19f99800_8dd0_11eb_b978_8dd4da323518row3_col4\" class=\"data row3 col4\" >-0.417457</td>\n",
       "                        <td id=\"T_19f99800_8dd0_11eb_b978_8dd4da323518row3_col5\" class=\"data row3 col5\" >-0.306564</td>\n",
       "                        <td id=\"T_19f99800_8dd0_11eb_b978_8dd4da323518row3_col6\" class=\"data row3 col6\" >-0.581024</td>\n",
       "            </tr>\n",
       "            <tr>\n",
       "                        <th id=\"T_19f99800_8dd0_11eb_b978_8dd4da323518level0_row4\" class=\"row_heading level0 row4\" >acceleration</th>\n",
       "                        <td id=\"T_19f99800_8dd0_11eb_b978_8dd4da323518row4_col0\" class=\"data row4 col0\" >0.420289</td>\n",
       "                        <td id=\"T_19f99800_8dd0_11eb_b978_8dd4da323518row4_col1\" class=\"data row4 col1\" >-0.505419</td>\n",
       "                        <td id=\"T_19f99800_8dd0_11eb_b978_8dd4da323518row4_col2\" class=\"data row4 col2\" >-0.543684</td>\n",
       "                        <td id=\"T_19f99800_8dd0_11eb_b978_8dd4da323518row4_col3\" class=\"data row4 col3\" >-0.417457</td>\n",
       "                        <td id=\"T_19f99800_8dd0_11eb_b978_8dd4da323518row4_col4\" class=\"data row4 col4\" >1</td>\n",
       "                        <td id=\"T_19f99800_8dd0_11eb_b978_8dd4da323518row4_col5\" class=\"data row4 col5\" >0.288137</td>\n",
       "                        <td id=\"T_19f99800_8dd0_11eb_b978_8dd4da323518row4_col6\" class=\"data row4 col6\" >0.205873</td>\n",
       "            </tr>\n",
       "            <tr>\n",
       "                        <th id=\"T_19f99800_8dd0_11eb_b978_8dd4da323518level0_row5\" class=\"row_heading level0 row5\" >model year</th>\n",
       "                        <td id=\"T_19f99800_8dd0_11eb_b978_8dd4da323518row5_col0\" class=\"data row5 col0\" >0.579267</td>\n",
       "                        <td id=\"T_19f99800_8dd0_11eb_b978_8dd4da323518row5_col1\" class=\"data row5 col1\" >-0.348746</td>\n",
       "                        <td id=\"T_19f99800_8dd0_11eb_b978_8dd4da323518row5_col2\" class=\"data row5 col2\" >-0.370164</td>\n",
       "                        <td id=\"T_19f99800_8dd0_11eb_b978_8dd4da323518row5_col3\" class=\"data row5 col3\" >-0.306564</td>\n",
       "                        <td id=\"T_19f99800_8dd0_11eb_b978_8dd4da323518row5_col4\" class=\"data row5 col4\" >0.288137</td>\n",
       "                        <td id=\"T_19f99800_8dd0_11eb_b978_8dd4da323518row5_col5\" class=\"data row5 col5\" >1</td>\n",
       "                        <td id=\"T_19f99800_8dd0_11eb_b978_8dd4da323518row5_col6\" class=\"data row5 col6\" >0.180662</td>\n",
       "            </tr>\n",
       "            <tr>\n",
       "                        <th id=\"T_19f99800_8dd0_11eb_b978_8dd4da323518level0_row6\" class=\"row_heading level0 row6\" >origin</th>\n",
       "                        <td id=\"T_19f99800_8dd0_11eb_b978_8dd4da323518row6_col0\" class=\"data row6 col0\" >0.56345</td>\n",
       "                        <td id=\"T_19f99800_8dd0_11eb_b978_8dd4da323518row6_col1\" class=\"data row6 col1\" >-0.562543</td>\n",
       "                        <td id=\"T_19f99800_8dd0_11eb_b978_8dd4da323518row6_col2\" class=\"data row6 col2\" >-0.609409</td>\n",
       "                        <td id=\"T_19f99800_8dd0_11eb_b978_8dd4da323518row6_col3\" class=\"data row6 col3\" >-0.581024</td>\n",
       "                        <td id=\"T_19f99800_8dd0_11eb_b978_8dd4da323518row6_col4\" class=\"data row6 col4\" >0.205873</td>\n",
       "                        <td id=\"T_19f99800_8dd0_11eb_b978_8dd4da323518row6_col5\" class=\"data row6 col5\" >0.180662</td>\n",
       "                        <td id=\"T_19f99800_8dd0_11eb_b978_8dd4da323518row6_col6\" class=\"data row6 col6\" >1</td>\n",
       "            </tr>\n",
       "    </tbody></table>"
      ],
      "text/plain": [
       "<pandas.io.formats.style.Styler at 0x1aa4f81efc8>"
      ]
     },
     "execution_count": 13,
     "metadata": {},
     "output_type": "execute_result"
    }
   ],
   "source": [
    "# library\n",
    "import seaborn as sns\n",
    "import matplotlib.pyplot as plt\n",
    " \n",
    "# Basic correlogram\n",
    "sns.pairplot(auto)\n",
    "plt.show()\n",
    "\n",
    "corr = auto.corr()\n",
    "corr.style.background_gradient(cmap='coolwarm')"
   ]
  },
  {
   "cell_type": "markdown",
   "metadata": {},
   "source": [
    "#### Explanation\n",
    "\n",
    "Possible independent variables : cylinder, displacement, weight, acceleration\n",
    "\n",
    "Using the correlation table we can say that: \n",
    "\n",
    "displacement and weight are positively correlated\n",
    "\n",
    "cylinder and weight are positively correlated\n",
    "\n",
    "Now if we have to pick independent variables: acceleration, cylinder, displacement  \n",
    "\n",
    "Dependent variable is mpg "
   ]
  },
  {
   "cell_type": "code",
   "execution_count": 14,
   "metadata": {},
   "outputs": [
    {
     "name": "stdout",
     "output_type": "stream",
     "text": [
      "LinearRegression(copy_X=True, fit_intercept=True, n_jobs=None, normalize=False)\n"
     ]
    }
   ],
   "source": [
    "# creating an instance of LinearRegression class\n",
    "reg = linear_model.LinearRegression()\n",
    "print(reg)"
   ]
  },
  {
   "cell_type": "markdown",
   "metadata": {},
   "source": [
    "#### Explanation\n",
    "\n",
    "x = auto_disp\n",
    "\n",
    "y = auto_mpg\n",
    "\n",
    "Goal: get a linear relationship between y and x.\n",
    "\n",
    "How many rows are there? 398\n",
    "\n",
    "The data is split so that we can use majority for training the model. Once the model is trained, we use the remaining data that was not used to test the model. \n",
    "\n",
    "y = y_known\n",
    "\n",
    "using the model we can y_predict.\n",
    "\n",
    "\n",
    "train_test_split() will return 4 things: x_train, x_test, y_train, y_test\n",
    "\n",
    "\n",
    "x_1  y_1\n",
    "\n",
    "x_2  y_2\n",
    "\n",
    "x_3  y_3\n",
    "\n",
    "x_4  y_4\n",
    "\n",
    "x_5  y_5\n",
    "\n",
    "\n",
    "x_train = [x_1, x_2,x_3,x_4]\n",
    "y_train = [y_1,y_2,y_3,y_4]\n",
    "\n",
    "x_test = [x_5]\n",
    "y_test = [y_5] "
   ]
  },
  {
   "cell_type": "code",
   "execution_count": 15,
   "metadata": {},
   "outputs": [],
   "source": [
    "# using train_test_split(), we are splitting the data into training and test \n",
    "\n",
    "x_train, x_test, y_train, y_test = train_test_split(auto_disp, auto_mpg, test_size=0.2, random_state=4)"
   ]
  },
  {
   "cell_type": "code",
   "execution_count": 16,
   "metadata": {},
   "outputs": [
    {
     "name": "stdout",
     "output_type": "stream",
     "text": [
      "(318,)\n",
      "(318, 1)\n",
      "(318, 1)\n"
     ]
    }
   ],
   "source": [
    "print(y_train.shape) \n",
    "y_train = y_train[:,None]\n",
    "print(y_train.shape)\n",
    "x_train = x_train[:,None]\n",
    "print(x_train.shape)\n",
    "x_test = x_test[:,None]\n",
    "y_test = y_test[:,None]"
   ]
  },
  {
   "cell_type": "code",
   "execution_count": 17,
   "metadata": {},
   "outputs": [
    {
     "name": "stdout",
     "output_type": "stream",
     "text": [
      "<class 'numpy.ndarray'>\n",
      "<class 'numpy.ndarray'>\n",
      "<class 'numpy.ndarray'>\n",
      "<class 'numpy.ndarray'>\n"
     ]
    }
   ],
   "source": [
    "print(type(x_train))\n",
    "print(type(y_train))\n",
    "print(type(x_test))\n",
    "print(type(y_test))"
   ]
  },
  {
   "cell_type": "code",
   "execution_count": 18,
   "metadata": {},
   "outputs": [
    {
     "data": {
      "text/plain": [
       "LinearRegression(copy_X=True, fit_intercept=True, n_jobs=None, normalize=False)"
      ]
     },
     "execution_count": 18,
     "metadata": {},
     "output_type": "execute_result"
    }
   ],
   "source": [
    "# we have to fit the data\n",
    "reg.fit(x_train, y_train)"
   ]
  },
  {
   "cell_type": "code",
   "execution_count": 19,
   "metadata": {},
   "outputs": [
    {
     "name": "stdout",
     "output_type": "stream",
     "text": [
      "[[-0.05885609]]\n",
      "[0.34875617]\n"
     ]
    }
   ],
   "source": [
    "# y = mx + b here m is the coefficient (or slope) of x and b is the intercept\n",
    "\n",
    "print(reg.coef_) # \n",
    "print(reg.intercept_)"
   ]
  },
  {
   "cell_type": "code",
   "execution_count": 20,
   "metadata": {},
   "outputs": [],
   "source": [
    "# auto_mpg = -0.05885609 auto_disp + 0.34875617"
   ]
  },
  {
   "cell_type": "markdown",
   "metadata": {},
   "source": [
    "#### Metrics for Linear Regression\n",
    "\n",
    "Mean Squared Error \n",
    "\n",
    "For linear regresion with one variable, $ y = mx +b  = wx + b$\n",
    "\n",
    "$ MSE = \\frac{1}{N} \\sum_{i=1}^{n} (y_i - (mx_i + b))^2 $ \n",
    "\n",
    "$y_i$ is the actual value and $mx_i + b$ is the predicted value.\n",
    "\n",
    "$N$ is the number of observations.\n",
    "\n",
    "The loss function based on the MSE is \n",
    "\n",
    "$ L(m, b) = \\frac{1}{N} \\sum_{i=1}^{n} (y_i - (mx_i + b))^2 $ \n",
    "\n",
    "our goal is to minimize $L$ with respect to $m$ and $b$\n",
    "\n",
    "The gradient of $L$\n",
    "\n",
    "$L'(m, b) = \\begin{bmatrix} \\frac{dL}{dm} \\\\ \\frac{dL}{db} \\end{bmatrix} = \\begin{bmatrix} \\frac{1}{N} \\sum -x_i.2(y_i - (mx_i + b))  \\\\ \\frac{1}{N} \\sum -2(y_i - (mx_i + b))  \\end{bmatrix}$ \n",
    "\n",
    "Update equation of m and b with learning rate $\\epsilon$ is\n",
    "\n",
    "$ m = m - \\epsilon \\frac{dL}{dm} $\n",
    "\n",
    "$ b = b - \\epsilon \\frac{dL}{db} $\n",
    "\n",
    "<img src=\"linear_loss.png\" width=400, height=300>"
   ]
  },
  {
   "cell_type": "markdown",
   "metadata": {},
   "source": [
    "#### Different Gradient Descents\n",
    "\n",
    "Gradient Descsent - every single data point is considered for update. \n",
    "\n",
    "Batch Gradient Descent - A whole batch of data is considered and then an update is done. \n",
    "It is slow when the training data is large. \n",
    "\n",
    "Stochastic Gradient Descent - a single point at random is chosen and loss is computed for update. \n",
    "\n",
    "Mini-batch Stochastic Gradient Descent - a mini-batch of randomly selected data points is considered and the average loss of the mini-batch is computed for the update. "
   ]
  },
  {
   "cell_type": "code",
   "execution_count": 21,
   "metadata": {},
   "outputs": [],
   "source": [
    "# yhat stands for perdicted value of y and for this we have to use the x_test values\n",
    "\n",
    "yhat = reg.predict(x_test)"
   ]
  },
  {
   "cell_type": "code",
   "execution_count": 22,
   "metadata": {},
   "outputs": [
    {
     "name": "stdout",
     "output_type": "stream",
     "text": [
      "[0.29872849]\n"
     ]
    }
   ],
   "source": [
    "print(yhat[0])"
   ]
  },
  {
   "cell_type": "code",
   "execution_count": 23,
   "metadata": {},
   "outputs": [
    {
     "name": "stdout",
     "output_type": "stream",
     "text": [
      "[[0.29872849]\n",
      " [0.08154952]\n",
      " [0.27695174]\n",
      " [0.29637425]\n",
      " [0.20161594]]\n",
      "+++++++++++++++\n",
      "[[0.318]\n",
      " [0.14 ]\n",
      " [0.21 ]\n",
      " [0.381]\n",
      " [0.18 ]]\n"
     ]
    }
   ],
   "source": [
    "print(yhat[0:5])\n",
    "print(\"+++++++++++++++\")\n",
    "print(y_test[0:5])"
   ]
  },
  {
   "cell_type": "code",
   "execution_count": 24,
   "metadata": {},
   "outputs": [
    {
     "data": {
      "text/plain": [
       "0.001895348309558066"
      ]
     },
     "execution_count": 24,
     "metadata": {},
     "output_type": "execute_result"
    }
   ],
   "source": [
    "# mean squared error\n",
    "\n",
    "np.mean((yhat-y_test)**2)"
   ]
  },
  {
   "cell_type": "code",
   "execution_count": 25,
   "metadata": {},
   "outputs": [
    {
     "name": "stdout",
     "output_type": "stream",
     "text": [
      "0.001895348309558066\n"
     ]
    }
   ],
   "source": [
    "from sklearn.metrics import mean_squared_error\n",
    "\n",
    "mse = mean_squared_error(y_test, yhat)\n",
    "print(mse)"
   ]
  },
  {
   "cell_type": "code",
   "execution_count": 26,
   "metadata": {},
   "outputs": [
    {
     "name": "stdout",
     "output_type": "stream",
     "text": [
      "[0.318]\n",
      "0.2339\n",
      "0.00810324202461764\n",
      "0.034644044568694486\n"
     ]
    }
   ],
   "source": [
    "# this is to makse sense of the mse value. \n",
    "print(y_test[0])\n",
    "print(np.mean(y_test))\n",
    "print(mse/np.mean(y_test)) \n",
    "print(mse/(np.mean(y_test)**2)) "
   ]
  },
  {
   "cell_type": "code",
   "execution_count": 27,
   "metadata": {},
   "outputs": [
    {
     "data": {
      "text/plain": [
       "Text(0, 0.5, 'MPG')"
      ]
     },
     "execution_count": 27,
     "metadata": {},
     "output_type": "execute_result"
    },
    {
     "data": {
      "image/png": "[encoded data removed]",
      "text/plain": [
       "<Figure size 432x288 with 1 Axes>"
      ]
     },
     "metadata": {
      "needs_background": "light"
     },
     "output_type": "display_data"
    }
   ],
   "source": [
    "# Plot generated by Sean\n",
    "\n",
    "scalingFactor = 100\n",
    "plt.scatter(x_train*scalingFactor, y_train*scalingFactor,  color='blue')\n",
    "plt.scatter(x_test*scalingFactor, y_test*scalingFactor,  color='red')\n",
    "plt.plot(x_test*scalingFactor, yhat*scalingFactor, color='black', linewidth=2)\n",
    "plt.xlabel(\"Displacement\")\n",
    "plt.ylabel(\"MPG\")"
   ]
  },
  {
   "cell_type": "code",
   "execution_count": 28,
   "metadata": {},
   "outputs": [
    {
     "data": {
      "text/plain": [
       "'\\nIn-class activity: Can you explain in 100 words how linear regression is done if we have x (independent variable) and \\ny (dependent variable?\\n'"
      ]
     },
     "execution_count": 28,
     "metadata": {},
     "output_type": "execute_result"
    }
   ],
   "source": [
    "\"\"\"\n",
    "In-class activity: Can you explain in 100 words how linear regression is done if we have x (independent variable) and \n",
    "y (dependent variable?\n",
    "\"\"\""
   ]
  },
  {
   "cell_type": "code",
   "execution_count": 29,
   "metadata": {},
   "outputs": [
    {
     "name": "stdout",
     "output_type": "stream",
     "text": [
      "(318, 1)\n",
      "(318, 1)\n",
      "[[-0.00753497]]\n",
      "[0.45896016]\n",
      "mse is  0.001902114703461823\n"
     ]
    }
   ],
   "source": [
    "\"\"\"\n",
    "In-class activity: In the auto-mpg example, find the relationship between \n",
    "weight and mpg. Find the mean squared error. \n",
    "\"\"\"\n",
    "\n",
    "\n",
    "auto_weight = auto['weight'].astype(float)\n",
    "auto_weight = auto_weight.apply(lambda x: x/100)\n",
    "x_train, x_test, y_train, y_test = train_test_split(auto_weight, \\\n",
    "                                                    auto_mpg, \\\n",
    "                                                    test_size=0.2, \\\n",
    "                                                    random_state=4)\n",
    "\n",
    "\"\"\"\n",
    "y_train = y_train[:,None]\n",
    "x_train = x_train[:,None]\n",
    "x_test = x_test[:,None]\n",
    "y_test = y_test[:,None]\n",
    "\"\"\"\n",
    "\n",
    "# Since [:, None] will not be supported, I first converted Pandas Data Series to numpy arrays\n",
    "y_train = np.array(y_train)\n",
    "x_train = np.array(x_train)\n",
    "x_test = np.array(x_test)\n",
    "y_test = np.array(y_test)\n",
    "\n",
    "# then I am reshapring the numpy arrays \n",
    "y_train = y_train.reshape(-1,1)\n",
    "x_train = x_train.reshape(-1,1)\n",
    "print(y_train.shape)\n",
    "print(x_train.shape)\n",
    "x_test = x_test.reshape(-1,1)\n",
    "y_test = y_test.reshape(-1,1)\n",
    "\n",
    "\n",
    "reg.fit(x_train, y_train)\n",
    "print(reg.coef_)\n",
    "print(reg.intercept_)\n",
    "yhat = reg.predict(x_test)\n",
    "print('mse is ', mean_squared_error(y_test, yhat))"
   ]
  },
  {
   "cell_type": "code",
   "execution_count": 30,
   "metadata": {},
   "outputs": [
    {
     "data": {
      "text/plain": [
       "Text(0, 0.5, 'MPG')"
      ]
     },
     "execution_count": 30,
     "metadata": {},
     "output_type": "execute_result"
    },
    {
     "data": {
      "image/png": "[encoded data removed]",
      "text/plain": [
       "<Figure size 432x288 with 1 Axes>"
      ]
     },
     "metadata": {
      "needs_background": "light"
     },
     "output_type": "display_data"
    }
   ],
   "source": [
    "# plot of auto_weight and quto_mpg\n",
    "\n",
    "scalingFactor = 100\n",
    "plt.scatter(x_train*scalingFactor, y_train*scalingFactor,  color='blue')\n",
    "plt.scatter(x_test*scalingFactor, y_test*scalingFactor,  color='red')\n",
    "plt.plot(x_test*scalingFactor, yhat*scalingFactor, color='black', linewidth=2)\n",
    "plt.xlabel(\"Weight\")\n",
    "plt.ylabel(\"MPG\")"
   ]
  },
  {
   "cell_type": "markdown",
   "metadata": {},
   "source": [
    "Multilinear Regression - In a multilinear regression, instead of one independent variable, we will consider more than one independent variable to find a linear relationship between independent variables and dependent variable. In the below example, we will consider two features, displacement and weight as inputs for our model and our target will still be mpg. "
   ]
  },
  {
   "cell_type": "code",
   "execution_count": 31,
   "metadata": {},
   "outputs": [],
   "source": [
    "auto_weight = auto['weight'].astype(float)"
   ]
  },
  {
   "cell_type": "code",
   "execution_count": 32,
   "metadata": {},
   "outputs": [
    {
     "name": "stdout",
     "output_type": "stream",
     "text": [
      "(2, 3)\n",
      "[[2 3 5]\n",
      " [7 8 9]]\n"
     ]
    }
   ],
   "source": [
    "x = np.array([[2, 3, 5], [7, 8, 9]])\n",
    "print(x.shape)\n",
    "print(x)"
   ]
  },
  {
   "cell_type": "code",
   "execution_count": 33,
   "metadata": {},
   "outputs": [
    {
     "name": "stdout",
     "output_type": "stream",
     "text": [
      "[[2 7]\n",
      " [3 8]\n",
      " [5 9]]\n",
      "(3, 2)\n"
     ]
    }
   ],
   "source": [
    "# transpose means rows become columns and columns become rows\n",
    "\n",
    "xtt = x.T\n",
    "print(xtt)\n",
    "print(xtt.shape)"
   ]
  },
  {
   "cell_type": "code",
   "execution_count": 34,
   "metadata": {},
   "outputs": [
    {
     "name": "stdout",
     "output_type": "stream",
     "text": [
      "[[ 38  83]\n",
      " [ 83 194]]\n"
     ]
    }
   ],
   "source": [
    "# if we want to perform array (or matrix) multiplication of x and xtt\n",
    "# columns in x should match the rows in xtt\n",
    "multxxtt = np.dot(x, xtt)\n",
    "print(multxxtt)"
   ]
  },
  {
   "cell_type": "code",
   "execution_count": 35,
   "metadata": {},
   "outputs": [
    {
     "name": "stdout",
     "output_type": "stream",
     "text": [
      "(2, 3)\n",
      "[[2 3 5]\n",
      " [7 8 9]]\n",
      "(2,)\n",
      "[10 20]\n"
     ]
    }
   ],
   "source": [
    "a = np.array([[2, 3, 5], [7, 8, 9]])\n",
    "print(a.shape)\n",
    "print(a)\n",
    "\n",
    "b = np.array([10, 20])\n",
    "print(b.shape)\n",
    "print(b)"
   ]
  },
  {
   "cell_type": "code",
   "execution_count": 36,
   "metadata": {},
   "outputs": [
    {
     "ename": "ValueError",
     "evalue": "shapes (2,3) and (2,) not aligned: 3 (dim 1) != 2 (dim 0)",
     "output_type": "error",
     "traceback": [
      "\u001b[1;31m---------------------------------------------------------------------------\u001b[0m",
      "\u001b[1;31mValueError\u001b[0m                                Traceback (most recent call last)",
      "\u001b[1;32m<ipython-input-36-501756a02776>\u001b[0m in \u001b[0;36m<module>\u001b[1;34m\u001b[0m\n\u001b[1;32m----> 1\u001b[1;33m \u001b[0mmultab\u001b[0m \u001b[1;33m=\u001b[0m \u001b[0mnp\u001b[0m\u001b[1;33m.\u001b[0m\u001b[0mdot\u001b[0m\u001b[1;33m(\u001b[0m\u001b[0ma\u001b[0m\u001b[1;33m,\u001b[0m \u001b[0mb\u001b[0m\u001b[1;33m)\u001b[0m\u001b[1;33m\u001b[0m\u001b[1;33m\u001b[0m\u001b[0m\n\u001b[0m\u001b[0;32m      2\u001b[0m \u001b[0mprint\u001b[0m\u001b[1;33m(\u001b[0m\u001b[0mmultab\u001b[0m\u001b[1;33m)\u001b[0m\u001b[1;33m\u001b[0m\u001b[1;33m\u001b[0m\u001b[0m\n",
      "\u001b[1;31mValueError\u001b[0m: shapes (2,3) and (2,) not aligned: 3 (dim 1) != 2 (dim 0)"
     ]
    }
   ],
   "source": [
    "multab = np.dot(a, b)\n",
    "print(multab)"
   ]
  },
  {
   "cell_type": "code",
   "execution_count": 37,
   "metadata": {},
   "outputs": [
    {
     "name": "stdout",
     "output_type": "stream",
     "text": [
      "2\n",
      "(398, 2)\n",
      "2\n",
      "(398, 1)\n"
     ]
    }
   ],
   "source": [
    "# np.array([x1, x2]).T , here T stands for transpose\n",
    "\n",
    "x = np.array([auto_disp, auto_weight]).T\n",
    "print(x.ndim)\n",
    "print(x.shape)\n",
    "y = np.array([auto_mpg]).T\n",
    "print(y.ndim)\n",
    "print(y.shape)\n",
    "x_train, x_test, y_train, y_test = train_test_split(x, \\\n",
    "                                                    y, \\\n",
    "                                                    test_size=0.2, \\\n",
    "                                                    random_state=4)"
   ]
  },
  {
   "cell_type": "code",
   "execution_count": 38,
   "metadata": {},
   "outputs": [
    {
     "data": {
      "text/plain": [
       "LinearRegression(copy_X=True, fit_intercept=True, n_jobs=None, normalize=False)"
      ]
     },
     "execution_count": 38,
     "metadata": {},
     "output_type": "execute_result"
    }
   ],
   "source": [
    "reg.fit(x_train, y_train)"
   ]
  },
  {
   "cell_type": "code",
   "execution_count": 39,
   "metadata": {},
   "outputs": [
    {
     "name": "stdout",
     "output_type": "stream",
     "text": [
      "[[-8.70028582e-03 -6.53171474e-05]]\n",
      "[0.44594961]\n",
      "0.6896873325460859\n",
      "0.7211013490249394\n"
     ]
    }
   ],
   "source": [
    "print(reg.coef_)\n",
    "print(reg.intercept_)\n",
    "print(reg.score(x_train, y_train)) # this returns R^2, R^2 lies [0, 1] (this is an interval notation)\n",
    "print(reg.score(x_test, y_test))"
   ]
  },
  {
   "cell_type": "code",
   "execution_count": 40,
   "metadata": {},
   "outputs": [],
   "source": [
    "# aut0_mpg = -0.0087*auto_disp -0.0000653*auto_weight + 0.44594961 "
   ]
  },
  {
   "cell_type": "code",
   "execution_count": 41,
   "metadata": {},
   "outputs": [],
   "source": [
    "# for x_test, y_test is the actual value \n",
    "# we use x_test for reg.predict because we can only use the independent variables\n",
    "# x_test, y_test, yhat\n",
    "# mse is the squared difference between the y_test an yhat\n",
    "\n",
    "yhat = reg.predict(x_test)"
   ]
  },
  {
   "cell_type": "code",
   "execution_count": 42,
   "metadata": {},
   "outputs": [
    {
     "data": {
      "text/plain": [
       "0.0017938384717537087"
      ]
     },
     "execution_count": 42,
     "metadata": {},
     "output_type": "execute_result"
    }
   ],
   "source": [
    "mean_squared_error(y_test, yhat)"
   ]
  },
  {
   "cell_type": "code",
   "execution_count": 43,
   "metadata": {},
   "outputs": [
    {
     "data": {
      "text/plain": [
       "0.0018643672578107476"
      ]
     },
     "execution_count": 43,
     "metadata": {},
     "output_type": "execute_result"
    }
   ],
   "source": [
    "y_t_predict = reg.predict(x_train)\n",
    "mean_squared_error(y_train, y_t_predict)"
   ]
  },
  {
   "cell_type": "code",
   "execution_count": null,
   "metadata": {},
   "outputs": [],
   "source": [
    "# Explanation - we compare the mse from train and mse from test and we observe that the values 0.0018644 and 0.0017938\n",
    "# are closer to each other. The linear regression equation is not a bad fit. \n",
    "\n",
    "# When will the equation be a bad fit?\n",
    "# When the difference between mse of train and mse of test is over 5%. "
   ]
  },
  {
   "cell_type": "code",
   "execution_count": 49,
   "metadata": {},
   "outputs": [
    {
     "name": "stdout",
     "output_type": "stream",
     "text": [
      "count     398\n",
      "unique     94\n",
      "top       150\n",
      "freq       22\n",
      "Name: horse power, dtype: object\n",
      "['130' '165' '150' '140' '198' '220' '215' '225' '190' '170' '160' '95'\n",
      " '97' '85' '88' '46' '87' '90' '113' '200' '210' '193' '?' '100' '105'\n",
      " '175' '153' '180' '110' '72' '86' '70' '76' '65' '69' '60' '80' '54'\n",
      " '208' '155' '112' '92' '145' '137' '158' '167' '94' '107' '230' '49' '75'\n",
      " '91' '122' '67' '83' '78' '52' '61' '93' '148' '129' '96' '71' '98' '115'\n",
      " '53' '81' '79' '120' '152' '102' '108' '68' '58' '149' '89' '63' '48'\n",
      " '66' '139' '103' '125' '133' '138' '135' '142' '77' '62' '132' '84' '64'\n",
      " '74' '116' '82']\n"
     ]
    }
   ],
   "source": [
    "\"\"\"\n",
    "In-class activity: In the auto-mpg example, find the relationship between \n",
    "horse power and weight with car mpg. Find the mean squared error. \n",
    "\"\"\"\n",
    "print(auto[\"horse power\"].describe())\n",
    "print(auto[\"horse power\"].unique())"
   ]
  },
  {
   "cell_type": "code",
   "execution_count": 51,
   "metadata": {},
   "outputs": [],
   "source": [
    "# There is a \"?\" in the horse power column so astype(\"float\") returns an error. First we are replacing \"?\" with 0.\n",
    "auto[\"horse power\"].replace(\"?\", 0, inplace=True)"
   ]
  },
  {
   "cell_type": "code",
   "execution_count": 53,
   "metadata": {},
   "outputs": [],
   "source": [
    "auto[\"horse power\"] = auto[\"horse power\"].astype(\"float\")"
   ]
  },
  {
   "cell_type": "code",
   "execution_count": 54,
   "metadata": {},
   "outputs": [
    {
     "name": "stdout",
     "output_type": "stream",
     "text": [
      "102.89447236180905\n",
      "92.0\n"
     ]
    }
   ],
   "source": [
    "print(auto[\"horse power\"].mean())\n",
    "print(auto[\"horse power\"].median())"
   ]
  },
  {
   "cell_type": "code",
   "execution_count": 55,
   "metadata": {},
   "outputs": [],
   "source": [
    "# choosing median to repalce 0 in the horse power column\n",
    "auto[\"horse power\"].replace(0, auto[\"horse power\"].median(), inplace=True)"
   ]
  },
  {
   "cell_type": "code",
   "execution_count": 56,
   "metadata": {},
   "outputs": [
    {
     "name": "stdout",
     "output_type": "stream",
     "text": [
      "count    398.000000\n",
      "mean     104.281407\n",
      "std       38.229470\n",
      "min       46.000000\n",
      "25%       76.000000\n",
      "50%       92.000000\n",
      "75%      125.000000\n",
      "max      230.000000\n",
      "Name: horse power, dtype: float64\n"
     ]
    }
   ],
   "source": [
    "print(auto[\"horse power\"].describe())"
   ]
  },
  {
   "cell_type": "code",
   "execution_count": 57,
   "metadata": {},
   "outputs": [],
   "source": [
    "auto_hp = auto[\"horse power\"]"
   ]
  },
  {
   "cell_type": "code",
   "execution_count": 58,
   "metadata": {},
   "outputs": [
    {
     "name": "stdout",
     "output_type": "stream",
     "text": [
      "2\n",
      "(398, 2)\n",
      "2\n",
      "(398, 1)\n"
     ]
    }
   ],
   "source": [
    "# np.array([x1, x2]).T , here T stands for transpose\n",
    "\n",
    "x = np.array([auto_hp, auto_weight]).T\n",
    "print(x.ndim)\n",
    "print(x.shape)\n",
    "y = np.array([auto_mpg]).T\n",
    "print(y.ndim)\n",
    "print(y.shape)\n",
    "x_train, x_test, y_train, y_test = train_test_split(x, \\\n",
    "                                                    y, \\\n",
    "                                                    test_size=0.2, \\\n",
    "                                                    random_state=4)"
   ]
  },
  {
   "cell_type": "code",
   "execution_count": 61,
   "metadata": {},
   "outputs": [
    {
     "data": {
      "text/plain": [
       "LinearRegression(copy_X=True, fit_intercept=True, n_jobs=None, normalize=False)"
      ]
     },
     "execution_count": 61,
     "metadata": {},
     "output_type": "execute_result"
    }
   ],
   "source": [
    "reg.fit(x_train, y_train)"
   ]
  },
  {
   "cell_type": "code",
   "execution_count": 62,
   "metadata": {},
   "outputs": [
    {
     "name": "stdout",
     "output_type": "stream",
     "text": [
      "[[-3.89582383e-04 -6.01029495e-05]]\n",
      "[0.45425445]\n"
     ]
    }
   ],
   "source": [
    "print(reg.coef_)\n",
    "print(reg.intercept_)"
   ]
  },
  {
   "cell_type": "code",
   "execution_count": 63,
   "metadata": {},
   "outputs": [
    {
     "data": {
      "text/plain": [
       "0.0018254248487794378"
      ]
     },
     "execution_count": 63,
     "metadata": {},
     "output_type": "execute_result"
    }
   ],
   "source": [
    "# mse for training data\n",
    "\n",
    "y_t_predict = reg.predict(x_train)\n",
    "mean_squared_error(y_train, y_t_predict)"
   ]
  },
  {
   "cell_type": "code",
   "execution_count": 64,
   "metadata": {},
   "outputs": [],
   "source": [
    "yhat = reg.predict(x_test)"
   ]
  },
  {
   "cell_type": "code",
   "execution_count": 65,
   "metadata": {},
   "outputs": [
    {
     "data": {
      "text/plain": [
       "0.001727969508504626"
      ]
     },
     "execution_count": 65,
     "metadata": {},
     "output_type": "execute_result"
    }
   ],
   "source": [
    "# mse for test data\n",
    "\n",
    "mean_squared_error(y_test,yhat)"
   ]
  },
  {
   "cell_type": "code",
   "execution_count": 68,
   "metadata": {},
   "outputs": [
    {
     "name": "stdout",
     "output_type": "stream",
     "text": [
      "r-squared for the test data:  0.73134238537273\n",
      "r-squared for the train data:  0.696169061278963\n"
     ]
    }
   ],
   "source": [
    "# r-squared\n",
    "\n",
    "from sklearn.metrics import r2_score\n",
    "\n",
    "print(\"r-squared for the test data: \", r2_score(y_test, yhat))\n",
    "    \n",
    "print(\"r-squared for the train data: \", r2_score(y_train, y_t_predict))"
   ]
  },
  {
   "cell_type": "code",
   "execution_count": 54,
   "metadata": {},
   "outputs": [],
   "source": [
    "# example of study time versus score\n",
    "\n",
    "x = np.array([16, 34, 8, 38, 39, 40, 54, 21, 16, 67, 40, 43, 47, 56, 60, 80])\n",
    "y = np.array([50, 61, 45, 60, 60, 67, 65, 59, 57, 73, 68, 71, 75, 71, 88, 94])"
   ]
  },
  {
   "cell_type": "code",
   "execution_count": 55,
   "metadata": {},
   "outputs": [
    {
     "name": "stdout",
     "output_type": "stream",
     "text": [
      "(16,)\n",
      "(16, 1)\n",
      "(16, 1)\n"
     ]
    }
   ],
   "source": [
    "print(y.shape) \n",
    "y = y.reshape(-1,1) # -1 is used to access last values in a list or a tuple\n",
    "print(y.shape)\n",
    "x = x.reshape(-1,1)\n",
    "print(x.shape)"
   ]
  },
  {
   "cell_type": "code",
   "execution_count": 56,
   "metadata": {},
   "outputs": [
    {
     "data": {
      "text/plain": [
       "LinearRegression(copy_X=True, fit_intercept=True, n_jobs=None, normalize=False)"
      ]
     },
     "execution_count": 56,
     "metadata": {},
     "output_type": "execute_result"
    }
   ],
   "source": [
    "reg.fit(x, y)"
   ]
  },
  {
   "cell_type": "code",
   "execution_count": 57,
   "metadata": {},
   "outputs": [
    {
     "name": "stdout",
     "output_type": "stream",
     "text": [
      "[[0.57581085]]\n",
      "[42.78379049]\n"
     ]
    }
   ],
   "source": [
    "print(reg.coef_)\n",
    "print(reg.intercept_)"
   ]
  },
  {
   "cell_type": "code",
   "execution_count": null,
   "metadata": {},
   "outputs": [],
   "source": [
    "# linear regression calculator\n",
    "\n",
    "# https://www.socscistatistics.com/tests/regression/default.aspx"
   ]
  },
  {
   "cell_type": "markdown",
   "metadata": {},
   "source": [
    "Resources -\n",
    "https://towardsdatascience.com/differential-equations-basics-c72db0a8c42a\n",
    "\n",
    "Understandable Statistics: Concepts and Methods, Enhanced 11th Edition\n",
    "by Charles Henry Brase (Author), Corrinne Pellillo Brase (Author)\n"
   ]
  },
  {
   "cell_type": "code",
   "execution_count": null,
   "metadata": {},
   "outputs": [],
   "source": []
  }
 ],
 "metadata": {
  "kernelspec": {
   "display_name": "Python 3",
   "language": "python",
   "name": "python3"
  },
  "language_info": {
   "codemirror_mode": {
    "name": "ipython",
    "version": 3
   },
   "file_extension": ".py",
   "mimetype": "text/x-python",
   "name": "python",
   "nbconvert_exporter": "python",
   "pygments_lexer": "ipython3",
   "version": "3.7.4"
  },
  "widgets": {
   "state": {},
   "version": "1.1.2"
  }
 },
 "nbformat": 4,
 "nbformat_minor": 2
}
