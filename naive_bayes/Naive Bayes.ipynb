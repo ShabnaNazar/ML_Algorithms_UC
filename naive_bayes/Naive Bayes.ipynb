{
 "cells": [
  {
   "cell_type": "markdown",
   "metadata": {},
   "source": [
    "#### Naive Bayes\n",
    "\n",
    "Is a supervised classification algorithm.\n",
    "\n",
    "Before we jump into Naive Bayes let's review a few probability concepts.\n",
    "\n"
   ]
  },
  {
   "cell_type": "markdown",
   "metadata": {},
   "source": [
    "If A and B are two events of an experiment then\n",
    "\n",
    "1) $ 0 \\leq P(A) \\leq 1 $ likewise $ 0 \\leq P(B) \\leq 1.$\n",
    "\n",
    "2) $ P(A) + P(B) = 1.$\n",
    "\n",
    "3) $ P(A') = 1 - P(A) $ here $A'$ is the complement of A. Some use $A^{c}$ to represent complement of A."
   ]
  },
  {
   "cell_type": "markdown",
   "metadata": {},
   "source": [
    "If we flip a coin what are the outcomes?\n",
    "\n",
    "Possible outcomes: Heads or Tails\n",
    "\n",
    "how many ways can we get heads when we toss a coin: 1\n",
    "    \n",
    "how many ways can we get tails when we toss a coin: 1\n",
    "    \n",
    "probability of getting heads = number of ways of getting heads/total outcomes = 1/2 = 0.5 = 50\\% = P(heads)"
   ]
  },
  {
   "cell_type": "markdown",
   "metadata": {},
   "source": [
    "If we flip two coins then what is the probability of:\n",
    "    \n",
    "possible outcomes: HH, HT, TH, TT, number of possible outcomes is 4\n",
    "\n",
    "1) Getting two heads.\n",
    "\n",
    "P(HH) = 1/4 = 0.25 = 25\\%\n",
    "\n",
    "2) One head and one tail.\n",
    "\n",
    "P(one head and one tail) = 2/4 = 0.5 = 50\\%\n",
    "\n",
    "3) At least one tail means one or more tails.\n",
    "\n",
    "P(at least one tail) = 3/4 = 0.75 = 75\\%\n",
    "\n",
    "P(atleast one tail) = 1 - P(HH) = 1 - 0.25 = 0.75 = 75\\% "
   ]
  },
  {
   "cell_type": "markdown",
   "metadata": {},
   "source": [
    "In-class activity: If you roll a six-sided die, what is the probability of:\n",
    "\n",
    "1) Getting a 2.\n",
    "\n",
    "2) Getting 3 or 5.\n",
    "\n",
    "3) Getting an even number.\n",
    "\n",
    "Solution:\n",
    "\n",
    "outcomes are: 1, 2, 3, 4, 5, 6, number of outcomes is 6\n",
    "\n",
    "P(2) = 1/6 = 0.166 = 16.6\\%\n",
    "\n",
    "P(3 or 5) = P(3) + P(5) = 1/6 + 1/6 = 2/6 = 1/3 = 33.33\\%\n",
    "\n",
    "P(even number) = 3/6 = 0.50 = 50\\%"
   ]
  },
  {
   "cell_type": "markdown",
   "metadata": {},
   "source": [
    "Observation: \n",
    "\n",
    "If we flip one coin - possible outcomes are 2.\n",
    "\n",
    "If we flip two coins - possible outcomes are $2^2 = 4.$\n",
    "\n",
    "If we roll a six-sided die - possible outcomes are 6.\n",
    "\n",
    "If we roll two six-sided dice - possible outcomes are $6^2 = 36.$"
   ]
  },
  {
   "cell_type": "markdown",
   "metadata": {},
   "source": [
    "Rolling two six-sided dice: \n",
    "\n",
    "least sum is 2, highest sum is 12.\n",
    "\n",
    "sum should be divisible 3: sum can be 3, 6, 9, 12\n",
    "\n",
    "sum 3: (1,2),(2,1)\n",
    "sum 6: (1,5), (2,4), (3,3), (4,2), (5,1)\n",
    "sum 9: (3,6), (4,5), (5,4), (6,3)\n",
    "sum 12: (6,6)\n",
    "\n",
    "total number of ways we can set a sum that is divisible by 3 is 12\n",
    "\n",
    "$P(\\text{sum that is divisible by 3}) = 12/36 = 1/3 = 33.33\\%$\n",
    "\n",
    "sums that are divisible by 4 are: 4, 8, 12\n",
    "sum 4: (1,3),(2,2),(3,1)\n",
    "sum 8: (2,6),(3,5),(4,4),(5,3),(2,6)\n",
    "sum 12: (6,6)\n",
    "\n",
    "total number of ways we can set a sum that is divisible by 4 is 9 \n",
    "\n",
    "$P(\\text{sum that is divisible by 4}) = 9/36 = 1/4 = 0.25 = 25\\%$\n",
    "\n",
    "\n",
    "Only sum 12 is divisible by both 3 and 4. We can get sum 12 only in one way.\n",
    "\n",
    "$P(\\text{sum that is divisible by 3 and 4}) =  1/36 $\n",
    "\n",
    "P(sum that is divisible by 3 or 4) = P(sum div by 3) + P(sum div by 4) - P(sum div by both 3 and 4)  \n",
    "                                           = 12/36 + 9/36 - 1/36 = (12+9-1)/36 = 20/36 = 5/9               "
   ]
  },
  {
   "cell_type": "markdown",
   "metadata": {},
   "source": [
    "In-class activity: If you roll two six-sided die, what is the probability of:\n",
    "\n",
    "1) Getting two even numbers.\n",
    "\n",
    "2) Getting a sum of 7.\n",
    "\n",
    "3) Getting a sum divisible by 5.\n",
    "\n",
    "\n",
    "Solutions:\n",
    "\n",
    "1. two even numbers: (2,2), (2,4), (2,6), (4,2),(4,4),(4,6), (6,2),(6,4),(6,6). The total number of ways for getting two even numbers is 9\n",
    "\n",
    "P(two even numbers) = 9/36 = 1/4 = 25\\%\n",
    "\n",
    "2. sum of seven: (1,6),(2,5),(3,4),(4,3),(5,2)(6,1). Total number of ways of getting sum 7 is 6\n",
    "\n",
    "P(sum 7) = 6/36 = 1/6 = 16.66 \\%\n",
    "\n",
    "3. sums divisible by 5 are 5, 10\n",
    "\n",
    "ways to get a sum 5 = (1,4),(2,3),(3,2),(4,1)\n",
    "ways to get a sum 10 = (4,6),(5,5),(6,4)\n",
    "\n",
    "P(sum div by 5) = 7/36 "
   ]
  },
  {
   "cell_type": "markdown",
   "metadata": {},
   "source": [
    "If two events are independent then\n",
    "\n",
    "$ P(A \\cap B) = P(A)*P(B).$\n",
    "\n",
    "\n",
    "Deck of 52 cards - 4 suits - hearts (red), diamonds (red), spades (black), and clubs (black). How many cards in each suit? 13 cards in each suit.\n",
    "\n",
    "What kind of cards - 2, 3, ..., 10, J, Q, K, A - 9 number cards, face cards 3, and 1 ace. \n",
    "\n",
    "\n",
    "Let's consider a few examples:\n",
    "\n",
    "1) Two cards are drawn from a deck of 52 cards with replacement. What is the probability of choosing a king and then a nine?\n",
    "\n",
    "P(K and 9) = P(K) * P(9) = 4/52 * 4/52 = 1/169  \n",
    "\n",
    "2) A bowl contains 3 red, 4 green and 8 blue marbles. Three marbles are drawn from the bowl with replacement. What is the probability of choosing a blue, a red and a green?\n",
    "\n",
    "P(R) = 3/15, P(G) = 4/15, P(B) = 8/15\n",
    "\n",
    "P(BRG) = P(B) * P(R) * P(G) = 8/15 * 3/15 * 4/15 = 0.02844 = 2.844\\%"
   ]
  },
  {
   "cell_type": "markdown",
   "metadata": {},
   "source": [
    "In-class activity: If you roll a die twice, what is the probability of:\n",
    "\n",
    "1) Getting a 4 on the first roll and a 3 on the second roll. \n",
    "\n",
    "P(4 on first and 3 on second) = 1/6 * 1/6 = 1/36 = 1/36\n",
    "\n",
    "2) Getting an even number on the first roll and a number divisible by 3 on second.\n",
    "\n",
    "P(even on the first and number div by 3 on second) = 3/6 * 2/6 = 1/6\n",
    "\n",
    "3) Getting a sum divisible by 5 or a sum divisible by 6.\n",
    "\n",
    "P(sum div by 5) = 7/36\n",
    "\n",
    "sum div by 6 are sum 6 and sum 12\n",
    "\n",
    "sum 6 = (1,5),(5,1),(2,4),(4,2),(3,3)\n",
    "\n",
    "sum 12 = (6,6)\n",
    "\n",
    "\n",
    "P(sum div 6) = 6/36 \n",
    "\n",
    "P(sum div by 5 or sum div by 6) = P(sum div by 5) + P(sum div by 6) = 7/36 + 6/36 = 13/36"
   ]
  },
  {
   "cell_type": "markdown",
   "metadata": {},
   "source": [
    "Conditional probability of A given B is, (another way to think about this is probability of A when we know that B happened),\n",
    "    \n",
    "$ P(A|B) = \\frac{P(A \\cap B)}{P(B)} $"
   ]
  },
  {
   "cell_type": "markdown",
   "metadata": {},
   "source": [
    "We roll a six-sided die. What is the probability of getting a 4 given that an even number occured?\n",
    "\n",
    "P(4|even) = 1/6/3/6 = 1/6 * 6/3 = 1/3 "
   ]
  },
  {
   "cell_type": "markdown",
   "metadata": {},
   "source": [
    "Let's consider a few examples:\n",
    "\n",
    "1a) If you pick a card from a deck of 52 cards, then what is the probability of getting an ace given it is a diamond?\n",
    "\n",
    "straight-forward way:\n",
    "\n",
    "P(ace|diamond) = 1/13\n",
    "\n",
    "conditional probability \n",
    "\n",
    "P(A|D) = P(A and D)/P(D) = 1/52/13/52 = 1/52 * 52/13 = 1/13\n",
    "\n",
    "1b) If you pick a card from a deck of 52 cards, what is the probability of getting a face card given it is a red card?\n",
    "\n",
    "straight-forward way: \n",
    "\n",
    "P(face|red) = 6/26 = 3/13\n",
    "\n",
    "conditional probability\n",
    "\n",
    "P(face|red) = P(face and red)/P(red) = 6/52/26/52 = 6/52 * 52/26 = 6/26 = 3/13 "
   ]
  },
  {
   "cell_type": "markdown",
   "metadata": {},
   "source": [
    "2) Consider the table below. What is the probability that a person chosen at random from the below group is a teacher given that they are a female?\n",
    "\n",
    "<img src=\"conditional1.png\" width=300, height=200>"
   ]
  },
  {
   "cell_type": "markdown",
   "metadata": {},
   "source": [
    "P(teacher|female) = P(teacher and female)/P(female) = 8/100/40/100 = 8/100 * 100/40 = 8/40 = 1/5 = 20%"
   ]
  },
  {
   "cell_type": "markdown",
   "metadata": {},
   "source": [
    "#### Find\n",
    "\n",
    "1. $P(\\text{male|teacher}) $\n",
    "\n",
    "P(male|teacher) = P(male and teacher)/P(teacher) = 12/100/20/100 = 12/100 * 100/20 = 12/20 = 3/5 = 75%\n",
    "\n",
    "\n",
    "2. $P(\\text{student|male}) $ \n",
    "\n",
    "P(student|male) = P(student and male)/P(male) = 48/100/60/100 = 48/60 = 80%"
   ]
  },
  {
   "cell_type": "markdown",
   "metadata": {},
   "source": [
    "\n",
    "In-class activity: If you roll a dice once, what is the probability of:\n",
    "\n",
    "1) Getting a 5 given that the outcome is odd. \n",
    "\n",
    "P(5|odd) = 1/6/3/6 = 1/3 = 33.33%\n",
    "\n",
    "2) Getting 4 given that the outcome is odd. \n",
    "\n",
    "P(4|odd) = 0/6/3/6 = 0\n",
    "\n",
    "3) Getting 6 given that the outcome is divisible by 3. \n",
    "\n",
    "P(6|outcome div by 3) = 1/6/2/6 = 1/2 = 50%"
   ]
  },
  {
   "cell_type": "markdown",
   "metadata": {},
   "source": [
    "#### Naive Bayes\n",
    "\n",
    "Is a probabilistic classifier technique.\n",
    "\n",
    "It is fast and scalable. Used for binary and for multi class classification. \n",
    "\n",
    "It assumes that every feature is unrealted to other features.\n",
    "This is the disadvantage of this model as in real life, features might not be unrelated to each other. \n",
    "\n",
    "\n",
    "Where is Naive Bayes used:\n",
    "\n",
    "1) Text classification\n",
    "\n",
    "2) Recommendation system\n",
    "\n",
    "3) Weather forecasting and more."
   ]
  },
  {
   "cell_type": "markdown",
   "metadata": {},
   "source": [
    "#### Naive Bayes formula\n",
    "\n",
    "<img src=\"bayes1.png\" width = 300, height=200>\n",
    "\n",
    "\n",
    "References:\n",
    "https://www.machinelearningplus.com/predictive-modeling/how-naive-bayes-algorithm-works-with-example-and-full-code/"
   ]
  },
  {
   "cell_type": "markdown",
   "metadata": {},
   "source": [
    "P(Y|X) = P(Y and X)/P(X)\n",
    "\n",
    "if we rewrite the above equation\n",
    "\n",
    "P(Y|X) P(X) = P(Y and X)  -(1)\n",
    "\n",
    "\n",
    "\n",
    "P(X|Y) = P(X and Y)/P(Y)\n",
    "if we multiply both sides by P(Y)\n",
    "\n",
    "P(X|Y) P(Y) = P(X and Y)  -(2)\n",
    "\n",
    "\n",
    "since P(X and Y) = P(Y and X), we can equate the left hand sides in (1) and (2)\n",
    "\n",
    "P(Y|X) P(X) = P(X|Y) P(Y)\n",
    "\n",
    "divide both sides by P(X) will give us the Bayes rule"
   ]
  },
  {
   "cell_type": "markdown",
   "metadata": {},
   "source": [
    "Let's consider the golf data set.\n",
    "\n",
    "<img src=\"golf.png\">\n",
    "\n",
    "Let's create a likelihood table\n",
    "\n",
    "<img src=\"likelihood2.png\"> "
   ]
  },
  {
   "cell_type": "markdown",
   "metadata": {},
   "source": [
    "We want to check the claim: Players will play if the weather is Rainy. \n",
    "\n",
    "$P(yes | rainy) = \\frac{P(rainy | yes) * P(yes)}{P(rainy)} $\n",
    "\n",
    "method 1: using conditional probability\n",
    "\n",
    "P(y|rainy) = P(y and rainy)/P(rainy) = 3/14/5/14 = 3/5 = 60%\n",
    "\n",
    "method 2: Bayes rule\n",
    "\n",
    "P(y|rainy) = (3/9 * 9/14)/5/14 = 3/9 * 9/14 * 14/5 = 3/5 = 60%\n",
    "\n",
    "Since the P(y|rainy) is 60%, we can conclude that the claim is true. "
   ]
  },
  {
   "cell_type": "markdown",
   "metadata": {},
   "source": [
    "In-class activity: Using the above table can you compute the probability for the following:\n",
    "\n",
    "1) Claim: Players will not play when the weather is overcast.\n",
    "\n",
    "P(not play|overcast) = P(n|overcast) = 0/4 = 0\n",
    "\n",
    "The claim is true.\n",
    "\n",
    "2) Claim: Players will play when the weather is sunny. \n",
    "\n",
    "P(play|sunny) = P(y|sunny) = 2/5 = 40%\n",
    "\n",
    "Since the probability is 40%, we can say that the claim is false."
   ]
  },
  {
   "cell_type": "code",
   "execution_count": 1,
   "metadata": {},
   "outputs": [],
   "source": [
    "%matplotlib inline\n",
    "import numpy as np\n",
    "import matplotlib.pyplot as plt\n",
    "import seaborn as sns; sns.set()"
   ]
  },
  {
   "cell_type": "code",
   "execution_count": 2,
   "metadata": {},
   "outputs": [],
   "source": [
    "from sklearn import datasets\n",
    "\n",
    "#Load dataset\n",
    "iris = datasets.load_iris()"
   ]
  },
  {
   "cell_type": "code",
   "execution_count": 3,
   "metadata": {},
   "outputs": [
    {
     "name": "stdout",
     "output_type": "stream",
     "text": [
      "<class 'sklearn.utils.Bunch'>\n"
     ]
    }
   ],
   "source": [
    "print(type(iris))"
   ]
  },
  {
   "cell_type": "code",
   "execution_count": 4,
   "metadata": {},
   "outputs": [],
   "source": [
    "from sklearn.model_selection import train_test_split"
   ]
  },
  {
   "cell_type": "code",
   "execution_count": 5,
   "metadata": {},
   "outputs": [],
   "source": [
    "x_train, x_test, y_train, y_test = train_test_split(iris.data, iris.target, test_size = 0.2, random_state=1)"
   ]
  },
  {
   "cell_type": "code",
   "execution_count": 6,
   "metadata": {},
   "outputs": [],
   "source": [
    "# Import Gaussian Naive Bayes model\n",
    "from sklearn.naive_bayes import GaussianNB\n",
    "\n",
    "# Create a Gaussian Classifier\n",
    "gnb = GaussianNB()\n",
    "\n",
    "#Train the model using the training sets\n",
    "gnb.fit(x_train, y_train)\n",
    "\n",
    "#Predict the response for test dataset\n",
    "y_pred = gnb.predict(x_test)"
   ]
  },
  {
   "cell_type": "code",
   "execution_count": 7,
   "metadata": {},
   "outputs": [
    {
     "name": "stdout",
     "output_type": "stream",
     "text": [
      "Accuracy: 0.9666666666666667\n"
     ]
    }
   ],
   "source": [
    "# Import scikit-learn metrics module for accuracy calculation\n",
    "from sklearn import metrics\n",
    "\n",
    "# Model Accuracy, how often is the classifier correct?\n",
    "print(\"Accuracy:\", metrics.accuracy_score(y_test, y_pred))"
   ]
  },
  {
   "cell_type": "code",
   "execution_count": null,
   "metadata": {},
   "outputs": [],
   "source": [
    "\"\"\"\n",
    "In-class activity: use GaussianNB on Titanic dataset and find the accuracy. \n",
    "\"\"\"\n",
    "\n",
    "# Use these features: \"Age\", \"Gender\", \"family_size\", \"Embarked\", \"Fare\""
   ]
  }
 ],
 "metadata": {
  "kernelspec": {
   "display_name": "Python 3",
   "language": "python",
   "name": "python3"
  },
  "language_info": {
   "codemirror_mode": {
    "name": "ipython",
    "version": 3
   },
   "file_extension": ".py",
   "mimetype": "text/x-python",
   "name": "python",
   "nbconvert_exporter": "python",
   "pygments_lexer": "ipython3",
   "version": "3.8.5"
  },
  "widgets": {
   "state": {},
   "version": "1.1.2"
  }
 },
 "nbformat": 4,
 "nbformat_minor": 2
}
