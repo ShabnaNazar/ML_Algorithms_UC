{
 "cells": [
  {
   "cell_type": "markdown",
   "metadata": {},
   "source": [
    "In this notebook we will discuss:\n",
    "    \n",
    "1) Cross-validation\n",
    "\n",
    "2) Using ExtraTreesClassifier for feature selection."
   ]
  },
  {
   "cell_type": "markdown",
   "metadata": {},
   "source": [
    "### Cross-validation\n",
    "\n",
    "Is a process to validate a model. The goal of cross-validation is to test the model's ability to predict new data that was not used in estimating it, in order to flag problems like overfitting or selection bias and to give an insight on how the model will generalize to an independent dataset (i.e., an unknown dataset, for instance from a real problem).\n",
    "\n",
    "One round of cross-validation involves partitioning a sample of data into complementary subsets, performing the analysis on one subset (called the training set), and validating the analysis on the other subset (called the validation set or testing set). To reduce variability, in most methods multiple rounds of cross-validation are performed using different partitions, and the validation results are combined (e.g. averaged) over the rounds to give an estimate of the model's predictive performance.\n",
    "\n",
    "References: https://en.wikipedia.org/wiki/Cross-validation_(statistics)#:~:text=Cross%2Dvalidation%2C%20sometimes%20called%20rotation,to%20an%20independent%20data%20set."
   ]
  },
  {
   "cell_type": "markdown",
   "metadata": {},
   "source": [
    "#### k-fold cross-validation\n",
    "\n",
    "In k-fold cross-validation, the original sample is randomly partitioned into k equal sized subsamples. Of the k subsamples, a single subsample is retained as the validation data for testing the model, and the remaining k − 1 subsamples are used as training data. The cross-validation process is then repeated k times, with each of the k subsamples used exactly once as the validation data. The k results can then be averaged to produce a single estimation. The advantage of this method over repeated random sub-sampling is that all observations are used for both training and validation, and each observation is used for validation exactly once. "
   ]
  },
  {
   "cell_type": "markdown",
   "metadata": {},
   "source": [
    "#### Explanation\n",
    "\n",
    "1, 2, 3, 4, 5, 6, 7, 8, 9, 10, 11, 12\n",
    "\n",
    "k = 4, we want to make 4 groups or partitions\n",
    "\n",
    "In each group will have 3 values\n",
    "\n",
    "G1 - 1, 2, 3\n",
    "\n",
    "G2 - 4, 5, 6\n",
    "\n",
    "G3 - 7, 8, 9\n",
    "\n",
    "G4 - 10, 11, 12\n",
    "\n",
    "First iteration: G1, G2, G3 for training and G4 to CV\n",
    "\n",
    "Second iteration: G2, G3, G4 for training and G1 for CV\n",
    "\n",
    "Third iteration: G1, G3, G4 for training and G2 for CV\n",
    "\n",
    "Fourth iteration: G1, G2, G4 for training and G3 for CV"
   ]
  },
  {
   "cell_type": "code",
   "execution_count": 13,
   "metadata": {},
   "outputs": [],
   "source": [
    "import pandas as pd\n",
    "import matplotlib.pyplot as plt\n",
    "import seaborn as sns\n",
    "%matplotlib inline"
   ]
  },
  {
   "cell_type": "code",
   "execution_count": 14,
   "metadata": {},
   "outputs": [],
   "source": [
    "df = pd.read_csv(\"Titanic.csv\")"
   ]
  },
  {
   "cell_type": "code",
   "execution_count": 15,
   "metadata": {},
   "outputs": [
    {
     "name": "stdout",
     "output_type": "stream",
     "text": [
      "Index(['PassengerId', 'Survived', 'Pclass', 'Name', 'Gender', 'Age', 'SibSp',\n",
      "       'Parch', 'Ticket', 'Fare', 'Cabin', 'Embarked'],\n",
      "      dtype='object')\n"
     ]
    }
   ],
   "source": [
    "print(df.columns)"
   ]
  },
  {
   "cell_type": "code",
   "execution_count": 16,
   "metadata": {},
   "outputs": [
    {
     "name": "stdout",
     "output_type": "stream",
     "text": [
      "(891, 12)\n"
     ]
    }
   ],
   "source": [
    "print(df.shape)"
   ]
  },
  {
   "cell_type": "code",
   "execution_count": 17,
   "metadata": {},
   "outputs": [],
   "source": [
    "df[\"family_size\"] = df[\"SibSp\"] + df[\"Parch\"] + 1"
   ]
  },
  {
   "cell_type": "code",
   "execution_count": 18,
   "metadata": {},
   "outputs": [
    {
     "name": "stdout",
     "output_type": "stream",
     "text": [
      "0    0\n",
      "1    0\n",
      "2    0\n",
      "3    0\n",
      "4    0\n",
      "Name: Parch, dtype: int64\n",
      "+++++++++++++\n",
      "0    1\n",
      "1    1\n",
      "2    0\n",
      "3    1\n",
      "4    0\n",
      "Name: SibSp, dtype: int64\n"
     ]
    }
   ],
   "source": [
    "print(df[\"Parch\"].head())\n",
    "print(\"+++++++++++++\")\n",
    "print(df[\"SibSp\"].head())"
   ]
  },
  {
   "cell_type": "code",
   "execution_count": 19,
   "metadata": {},
   "outputs": [
    {
     "name": "stdout",
     "output_type": "stream",
     "text": [
      "0    2\n",
      "1    2\n",
      "2    1\n",
      "3    2\n",
      "4    1\n",
      "Name: family_size, dtype: int64\n"
     ]
    }
   ],
   "source": [
    "print(df[\"family_size\"].head())"
   ]
  },
  {
   "cell_type": "code",
   "execution_count": 20,
   "metadata": {},
   "outputs": [
    {
     "name": "stdout",
     "output_type": "stream",
     "text": [
      "['S' 'C' 'Q' nan]\n"
     ]
    }
   ],
   "source": [
    "print(df[\"Embarked\"].unique())"
   ]
  },
  {
   "cell_type": "code",
   "execution_count": 21,
   "metadata": {},
   "outputs": [
    {
     "name": "stdout",
     "output_type": "stream",
     "text": [
      "PassengerId      0\n",
      "Survived         0\n",
      "Pclass           0\n",
      "Name             0\n",
      "Gender           0\n",
      "Age            177\n",
      "SibSp            0\n",
      "Parch            0\n",
      "Ticket           0\n",
      "Fare             0\n",
      "Cabin          687\n",
      "Embarked         2\n",
      "family_size      0\n",
      "dtype: int64\n"
     ]
    }
   ],
   "source": [
    "print(df.isnull().sum())"
   ]
  },
  {
   "cell_type": "code",
   "execution_count": 22,
   "metadata": {},
   "outputs": [
    {
     "data": {
      "text/plain": [
       "PassengerId      0\n",
       "Survived         0\n",
       "Pclass           0\n",
       "Name             0\n",
       "Gender           0\n",
       "Age              0\n",
       "SibSp            0\n",
       "Parch            0\n",
       "Ticket           0\n",
       "Fare             0\n",
       "Cabin          687\n",
       "Embarked         2\n",
       "family_size      0\n",
       "dtype: int64"
      ]
     },
     "execution_count": 22,
     "metadata": {},
     "output_type": "execute_result"
    }
   ],
   "source": [
    "df[\"Age\"].fillna(value=df[\"Age\"].median(), inplace=True)\n",
    "df.isnull().sum()"
   ]
  },
  {
   "cell_type": "code",
   "execution_count": 23,
   "metadata": {},
   "outputs": [
    {
     "data": {
      "text/plain": [
       "count     889\n",
       "unique      3\n",
       "top         S\n",
       "freq      644\n",
       "Name: Embarked, dtype: object"
      ]
     },
     "execution_count": 23,
     "metadata": {},
     "output_type": "execute_result"
    }
   ],
   "source": [
    "df[\"Embarked\"].describe()"
   ]
  },
  {
   "cell_type": "code",
   "execution_count": 25,
   "metadata": {},
   "outputs": [
    {
     "data": {
      "text/plain": [
       "PassengerId      0\n",
       "Survived         0\n",
       "Pclass           0\n",
       "Name             0\n",
       "Gender           0\n",
       "Age              0\n",
       "SibSp            0\n",
       "Parch            0\n",
       "Ticket           0\n",
       "Fare             0\n",
       "Cabin          687\n",
       "Embarked         0\n",
       "family_size      0\n",
       "dtype: int64"
      ]
     },
     "execution_count": 25,
     "metadata": {},
     "output_type": "execute_result"
    }
   ],
   "source": [
    "df[\"Embarked\"].fillna(value=\"S\", inplace=True)\n",
    "df.isnull().sum()"
   ]
  },
  {
   "cell_type": "code",
   "execution_count": 26,
   "metadata": {},
   "outputs": [],
   "source": [
    "embarked ={\"S\":0, \"C\":1, \"Q\":2}"
   ]
  },
  {
   "cell_type": "code",
   "execution_count": 27,
   "metadata": {},
   "outputs": [],
   "source": [
    "df.Embarked = [embarked[item] for item in df.Embarked] # list comprehension"
   ]
  },
  {
   "cell_type": "code",
   "execution_count": 28,
   "metadata": {},
   "outputs": [],
   "source": [
    "gender = {\"female\":1, \"male\":0}"
   ]
  },
  {
   "cell_type": "code",
   "execution_count": 29,
   "metadata": {},
   "outputs": [],
   "source": [
    "df.Gender = [gender[item] for item in df.Gender]"
   ]
  },
  {
   "cell_type": "code",
   "execution_count": 51,
   "metadata": {},
   "outputs": [
    {
     "name": "stdout",
     "output_type": "stream",
     "text": [
      "0    0\n",
      "1    1\n",
      "2    1\n",
      "3    1\n",
      "4    0\n",
      "Name: Gender, dtype: int64\n"
     ]
    }
   ],
   "source": [
    "print(df.Gender[0:5])"
   ]
  },
  {
   "cell_type": "code",
   "execution_count": 30,
   "metadata": {},
   "outputs": [],
   "source": [
    "dfx = df[[\"Age\", \"Gender\", \"family_size\", \"Embarked\"]].copy(deep=True)\n",
    "dfy = df[[\"Survived\"]].copy(deep=True)"
   ]
  },
  {
   "cell_type": "code",
   "execution_count": 31,
   "metadata": {},
   "outputs": [],
   "source": [
    "from sklearn.model_selection import train_test_split\n",
    "from sklearn.preprocessing import StandardScaler\n",
    "import numpy as np\n",
    "scaler = StandardScaler()\n",
    "x = scaler.fit_transform(dfx)"
   ]
  },
  {
   "cell_type": "code",
   "execution_count": 32,
   "metadata": {},
   "outputs": [],
   "source": [
    "y = dfy"
   ]
  },
  {
   "cell_type": "code",
   "execution_count": 33,
   "metadata": {},
   "outputs": [
    {
     "name": "stdout",
     "output_type": "stream",
     "text": [
      "(891, 4)\n",
      "(891, 1)\n"
     ]
    }
   ],
   "source": [
    "print(x.shape)\n",
    "print(y.shape)"
   ]
  },
  {
   "cell_type": "code",
   "execution_count": 34,
   "metadata": {},
   "outputs": [],
   "source": [
    "import numpy\n",
    "x = numpy.array(x)\n",
    "y = numpy.array(y)"
   ]
  },
  {
   "cell_type": "code",
   "execution_count": 35,
   "metadata": {},
   "outputs": [
    {
     "name": "stdout",
     "output_type": "stream",
     "text": [
      "(891, 4) (891, 1)\n"
     ]
    }
   ],
   "source": [
    "print(x.shape, y.shape)"
   ]
  },
  {
   "cell_type": "code",
   "execution_count": 38,
   "metadata": {},
   "outputs": [
    {
     "name": "stdout",
     "output_type": "stream",
     "text": [
      "Train: [  1   2   3   5   7   8   9  10  11  13  16  17  18  19  20  21  22  24\n",
      "  25  26  27  28  29  30  31  32  33  34  35  36  37  38  39  40  41  42\n",
      "  44  45  46  47  48  49  50  51  52  53  54  55  56  57  58  60  61  62\n",
      "  64  65  66  69  70  71  73  74  75  76  77  78  79  80  81  82  83  84\n",
      "  85  90  94  96  97  98  99 100 101 104 105 107 108 109 110 111 113 114\n",
      " 118 120 121 122 124 125 127 128 129 130 131 132 133 134 136 137 139 141\n",
      " 142 143 144 145 146 147 148 149 150 151 152 153 154 156 157 158 160 162\n",
      " 163 164 166 167 168 169 171 172 173 174 176 177 178 179 180 181 182 183\n",
      " 184 185 186 188 189 190 191 192 193 196 197 198 199 200 202 203 204 205\n",
      " 206 208 209 211 213 214 215 217 220 221 222 224 226 227 228 229 230 231\n",
      " 232 234 235 236 237 239 241 242 243 244 245 247 248 249 250 251 252 254\n",
      " 255 257 258 260 263 264 265 266 267 268 269 270 271 272 273 274 275 277\n",
      " 278 279 280 281 282 283 284 285 287 288 290 291 292 293 294 296 297 298\n",
      " 299 300 302 303 308 309 311 312 313 314 315 316 317 318 320 321 322 323\n",
      " 324 325 326 327 328 329 330 332 334 335 336 337 338 341 342 344 345 346\n",
      " 347 348 349 350 351 353 356 357 358 359 360 361 362 364 365 366 367 368\n",
      " 369 370 371 372 373 374 375 376 377 378 381 382 383 384 385 387 389 391\n",
      " 392 393 394 395 396 397 398 399 400 401 402 403 405 406 407 408 409 410\n",
      " 411 412 414 415 416 417 419 420 422 423 424 425 426 427 428 430 432 434\n",
      " 435 436 439 440 441 442 443 444 445 446 448 449 450 451 452 453 454 458\n",
      " 459 461 462 463 464 465 467 469 470 471 472 473 474 475 477 478 479 480\n",
      " 481 483 484 485 487 488 490 493 494 496 497 498 499 500 503 504 505 506\n",
      " 507 508 509 511 512 514 516 518 519 520 522 523 525 526 527 528 529 530\n",
      " 531 532 533 534 537 538 540 541 542 544 545 546 547 548 549 551 554 555\n",
      " 556 557 558 559 560 561 562 563 564 565 566 567 569 570 571 572 575 576\n",
      " 577 578 579 580 582 584 585 586 587 588 589 590 591 593 594 595 596 597\n",
      " 598 599 600 601 603 604 605 606 607 608 609 610 611 612 614 615 616 617\n",
      " 618 619 620 621 622 623 624 625 626 627 628 629 630 631 632 633 634 635\n",
      " 637 638 639 640 642 643 644 645 646 647 648 650 652 653 654 655 658 659\n",
      " 660 661 663 664 665 666 667 668 669 670 671 673 674 676 677 678 679 680\n",
      " 681 682 683 684 685 687 688 689 690 691 692 693 694 695 698 700 701 702\n",
      " 703 704 705 706 707 708 709 710 711 712 713 714 715 716 717 718 719 720\n",
      " 721 722 723 725 727 728 729 730 731 733 734 737 738 739 740 741 742 743\n",
      " 744 745 746 747 749 750 751 752 753 754 755 756 757 759 760 761 762 763\n",
      " 764 765 766 769 772 773 774 775 776 777 778 779 781 782 783 784 785 786\n",
      " 788 789 790 791 792 793 794 797 798 799 800 801 802 803 804 805 806 807\n",
      " 808 809 810 811 813 814 815 817 819 820 821 822 823 825 826 827 828 830\n",
      " 832 835 836 840 841 842 844 845 846 847 848 849 850 851 852 853 854 855\n",
      " 856 857 858 859 861 863 864 865 866 868 869 870 871 872 874 875 876 877\n",
      " 878 881 882 883 884 886 887 888 889 890] Validation: [  0   4   6  12  14  15  23  43  59  63  67  68  72  86  87  88  89  91\n",
      "  92  93  95 102 103 106 112 115 116 117 119 123 126 135 138 140 155 159\n",
      " 161 165 170 175 187 194 195 201 207 210 212 216 218 219 223 225 233 238\n",
      " 240 246 253 256 259 261 262 276 286 289 295 301 304 305 306 307 310 319\n",
      " 331 333 339 340 343 352 354 355 363 379 380 386 388 390 404 413 418 421\n",
      " 429 431 433 437 438 447 455 456 457 460 466 468 476 482 486 489 491 492\n",
      " 495 501 502 510 513 515 517 521 524 535 536 539 543 550 552 553 568 573\n",
      " 574 581 583 592 602 613 636 641 649 651 656 657 662 672 675 686 696 697\n",
      " 699 724 726 732 735 736 748 758 767 768 770 771 780 787 795 796 812 816\n",
      " 818 824 829 831 833 834 837 838 839 843 860 862 867 873 879 880 885]\n",
      "Train: [  0   2   4   5   6   7   8   9  10  12  14  15  16  17  19  20  21  22\n",
      "  23  24  25  27  29  31  35  36  37  38  39  40  41  42  43  45  46  49\n",
      "  50  51  53  54  56  57  58  59  62  63  64  65  66  67  68  69  70  72\n",
      "  73  74  75  76  79  81  82  83  85  86  87  88  89  90  91  92  93  94\n",
      "  95  96  97  98  99 100 101 102 103 104 106 108 111 112 113 114 115 116\n",
      " 117 118 119 120 121 122 123 124 125 126 127 128 129 130 131 132 133 134\n",
      " 135 137 138 140 141 142 144 145 146 147 148 149 150 151 152 154 155 156\n",
      " 157 158 159 160 161 163 164 165 166 167 169 170 171 172 173 174 175 176\n",
      " 178 179 180 181 182 185 186 187 188 191 192 193 194 195 196 197 198 199\n",
      " 200 201 202 203 206 207 208 209 210 211 212 213 216 217 218 219 221 223\n",
      " 224 225 226 227 228 230 231 232 233 235 237 238 239 240 241 242 243 245\n",
      " 246 247 248 251 253 255 256 257 259 261 262 263 265 266 267 268 269 270\n",
      " 271 272 273 274 275 276 277 278 279 281 282 284 286 287 288 289 290 291\n",
      " 293 294 295 296 297 298 300 301 302 304 305 306 307 308 310 311 313 314\n",
      " 315 316 317 318 319 320 321 322 324 326 330 331 333 334 336 337 338 339\n",
      " 340 341 342 343 345 346 347 348 349 350 352 353 354 355 356 357 359 361\n",
      " 362 363 364 365 366 367 368 369 370 372 373 374 376 378 379 380 382 385\n",
      " 386 387 388 389 390 391 392 393 394 396 397 398 399 400 401 404 405 407\n",
      " 408 409 410 411 413 414 415 416 418 419 420 421 422 423 424 425 426 427\n",
      " 429 430 431 432 433 434 435 436 437 438 440 441 442 443 444 445 446 447\n",
      " 448 449 450 452 453 454 455 456 457 458 459 460 461 463 464 465 466 467\n",
      " 468 469 470 473 474 475 476 477 478 480 482 483 486 487 488 489 491 492\n",
      " 493 495 497 498 499 501 502 503 504 505 506 507 508 509 510 511 512 513\n",
      " 514 515 516 517 518 519 520 521 522 523 524 525 527 529 530 531 533 534\n",
      " 535 536 538 539 540 542 543 544 545 547 549 550 551 552 553 554 555 556\n",
      " 557 558 560 561 562 564 565 567 568 570 572 573 574 576 577 579 580 581\n",
      " 582 583 584 585 586 587 588 591 592 593 596 598 600 601 602 603 605 607\n",
      " 609 610 612 613 614 615 616 617 618 619 620 621 622 625 626 627 628 629\n",
      " 630 631 632 633 634 635 636 637 639 640 641 642 643 644 646 649 650 651\n",
      " 652 654 655 656 657 658 660 662 663 666 667 668 669 671 672 673 674 675\n",
      " 676 681 682 683 684 685 686 687 688 689 690 691 692 693 694 695 696 697\n",
      " 698 699 700 702 703 704 706 707 708 709 712 714 715 717 718 719 721 722\n",
      " 723 724 726 728 729 731 732 734 735 736 737 738 740 743 744 747 748 749\n",
      " 750 751 752 753 756 757 758 759 760 761 762 764 765 766 767 768 769 770\n",
      " 771 772 773 774 775 778 780 781 782 783 784 785 786 787 788 789 790 791\n",
      " 792 793 795 796 797 798 799 800 801 802 803 805 807 808 810 811 812 813\n",
      " 814 815 816 817 818 819 820 821 822 823 824 825 829 831 832 833 834 835\n",
      " 836 837 838 839 843 844 845 846 847 849 850 851 853 854 855 856 857 858\n",
      " 859 860 861 862 863 864 866 867 868 869 870 871 872 873 874 875 876 877\n",
      " 879 880 881 883 884 885 886 887 888 889 890] Validation: [  1   3  11  13  18  26  28  30  32  33  34  44  47  48  52  55  60  61\n",
      "  71  77  78  80  84 105 107 109 110 136 139 143 153 162 168 177 183 184\n",
      " 189 190 204 205 214 215 220 222 229 234 236 244 249 250 252 254 258 260\n",
      " 264 280 283 285 292 299 303 309 312 323 325 327 328 329 332 335 344 351\n",
      " 358 360 371 375 377 381 383 384 395 402 403 406 412 417 428 439 451 462\n",
      " 471 472 479 481 484 485 490 494 496 500 526 528 532 537 541 546 548 559\n",
      " 563 566 569 571 575 578 589 590 594 595 597 599 604 606 608 611 623 624\n",
      " 638 645 647 648 653 659 661 664 665 670 677 678 679 680 701 705 710 711\n",
      " 713 716 720 725 727 730 733 739 741 742 745 746 754 755 763 776 777 779\n",
      " 794 804 806 809 826 827 828 830 840 841 842 848 852 865 878 882]\n",
      "Train: [  0   1   3   4   6   7   8  10  11  12  13  14  15  16  17  18  21  22\n",
      "  23  25  26  27  28  29  30  31  32  33  34  36  37  38  39  40  41  43\n",
      "  44  45  46  47  48  49  50  51  52  53  55  56  57  58  59  60  61  62\n",
      "  63  65  67  68  69  71  72  74  76  77  78  79  80  84  85  86  87  88\n",
      "  89  90  91  92  93  95  98  99 102 103 104 105 106 107 109 110 111 112\n",
      " 113 115 116 117 118 119 122 123 124 125 126 128 130 131 132 133 134 135\n",
      " 136 138 139 140 142 143 144 145 146 147 149 150 151 152 153 154 155 156\n",
      " 157 159 161 162 163 165 166 167 168 169 170 171 173 174 175 177 178 179\n",
      " 180 181 182 183 184 185 186 187 189 190 191 192 194 195 197 198 199 201\n",
      " 203 204 205 207 208 209 210 212 213 214 215 216 218 219 220 221 222 223\n",
      " 224 225 226 229 230 231 232 233 234 235 236 237 238 239 240 243 244 245\n",
      " 246 248 249 250 252 253 254 255 256 257 258 259 260 261 262 263 264 265\n",
      " 266 267 268 269 270 271 273 275 276 277 279 280 282 283 285 286 289 291\n",
      " 292 293 295 296 297 299 300 301 303 304 305 306 307 309 310 311 312 313\n",
      " 314 318 319 320 321 322 323 325 326 327 328 329 330 331 332 333 335 336\n",
      " 337 339 340 342 343 344 345 346 347 348 350 351 352 354 355 356 358 359\n",
      " 360 362 363 365 367 368 370 371 372 373 374 375 377 378 379 380 381 383\n",
      " 384 385 386 387 388 390 391 392 393 394 395 396 397 399 401 402 403 404\n",
      " 406 407 410 411 412 413 416 417 418 419 420 421 422 423 426 428 429 430\n",
      " 431 432 433 434 435 436 437 438 439 442 444 445 447 449 450 451 452 453\n",
      " 454 455 456 457 458 459 460 462 463 466 468 469 470 471 472 473 475 476\n",
      " 477 479 480 481 482 483 484 485 486 489 490 491 492 494 495 496 497 499\n",
      " 500 501 502 503 505 507 508 510 511 512 513 515 516 517 518 520 521 524\n",
      " 525 526 527 528 529 530 531 532 534 535 536 537 539 540 541 542 543 544\n",
      " 545 546 547 548 550 551 552 553 554 555 556 557 558 559 563 564 566 567\n",
      " 568 569 571 573 574 575 576 577 578 579 581 583 585 586 587 588 589 590\n",
      " 591 592 593 594 595 596 597 598 599 600 601 602 603 604 605 606 607 608\n",
      " 609 611 613 614 616 617 618 621 623 624 627 629 630 631 632 633 635 636\n",
      " 638 639 640 641 642 644 645 647 648 649 650 651 652 653 654 655 656 657\n",
      " 658 659 660 661 662 663 664 665 666 668 670 672 673 675 676 677 678 679\n",
      " 680 684 685 686 687 688 689 690 693 694 695 696 697 698 699 700 701 702\n",
      " 704 705 706 707 708 710 711 712 713 714 716 717 718 719 720 721 722 724\n",
      " 725 726 727 728 729 730 732 733 734 735 736 737 738 739 741 742 743 744\n",
      " 745 746 747 748 749 750 751 752 753 754 755 757 758 759 760 761 762 763\n",
      " 764 765 766 767 768 770 771 772 773 775 776 777 778 779 780 781 783 785\n",
      " 787 788 791 792 794 795 796 797 799 800 803 804 805 806 807 808 809 810\n",
      " 812 813 815 816 817 818 820 822 823 824 825 826 827 828 829 830 831 832\n",
      " 833 834 836 837 838 839 840 841 842 843 844 846 847 848 850 852 854 855\n",
      " 856 857 858 859 860 861 862 863 864 865 866 867 870 871 872 873 877 878\n",
      " 879 880 881 882 883 884 885 886 887 888 889] Validation: [  2   5   9  19  20  24  35  42  54  64  66  70  73  75  81  82  83  94\n",
      "  96  97 100 101 108 114 120 121 127 129 137 141 148 158 160 164 172 176\n",
      " 188 193 196 200 202 206 211 217 227 228 241 242 247 251 272 274 278 281\n",
      " 284 287 288 290 294 298 302 308 315 316 317 324 334 338 341 349 353 357\n",
      " 361 364 366 369 376 382 389 398 400 405 408 409 414 415 424 425 427 440\n",
      " 441 443 446 448 461 464 465 467 474 478 487 488 493 498 504 506 509 514\n",
      " 519 522 523 533 538 549 560 561 562 565 570 572 580 582 584 610 612 615\n",
      " 619 620 622 625 626 628 634 637 643 646 667 669 671 674 681 682 683 691\n",
      " 692 703 709 715 723 731 740 756 769 774 782 784 786 789 790 793 798 801\n",
      " 802 811 814 819 821 835 845 849 851 853 868 869 874 875 876 890]\n",
      "Train: [  0   1   2   3   4   5   6   7   8   9  11  12  13  14  15  17  18  19\n",
      "  20  23  24  25  26  27  28  30  31  32  33  34  35  37  42  43  44  47\n",
      "  48  50  51  52  54  55  56  58  59  60  61  62  63  64  65  66  67  68\n",
      "  69  70  71  72  73  75  77  78  79  80  81  82  83  84  85  86  87  88\n",
      "  89  91  92  93  94  95  96  97  98  99 100 101 102 103 105 106 107 108\n",
      " 109 110 112 113 114 115 116 117 119 120 121 122 123 124 125 126 127 129\n",
      " 130 131 135 136 137 138 139 140 141 143 144 148 149 151 153 155 156 158\n",
      " 159 160 161 162 163 164 165 166 167 168 170 172 173 175 176 177 178 180\n",
      " 181 182 183 184 187 188 189 190 191 193 194 195 196 197 200 201 202 203\n",
      " 204 205 206 207 208 210 211 212 213 214 215 216 217 218 219 220 222 223\n",
      " 224 225 226 227 228 229 230 231 232 233 234 236 238 240 241 242 243 244\n",
      " 245 246 247 248 249 250 251 252 253 254 256 257 258 259 260 261 262 264\n",
      " 266 267 269 271 272 274 275 276 277 278 280 281 283 284 285 286 287 288\n",
      " 289 290 292 293 294 295 296 297 298 299 301 302 303 304 305 306 307 308\n",
      " 309 310 311 312 315 316 317 318 319 321 323 324 325 327 328 329 331 332\n",
      " 333 334 335 338 339 340 341 342 343 344 349 351 352 353 354 355 356 357\n",
      " 358 359 360 361 363 364 366 369 370 371 372 374 375 376 377 378 379 380\n",
      " 381 382 383 384 386 388 389 390 391 392 395 396 397 398 400 402 403 404\n",
      " 405 406 407 408 409 410 411 412 413 414 415 416 417 418 419 420 421 422\n",
      " 423 424 425 427 428 429 431 432 433 435 436 437 438 439 440 441 442 443\n",
      " 445 446 447 448 449 451 453 455 456 457 459 460 461 462 463 464 465 466\n",
      " 467 468 469 470 471 472 473 474 475 476 477 478 479 480 481 482 484 485\n",
      " 486 487 488 489 490 491 492 493 494 495 496 498 499 500 501 502 504 506\n",
      " 509 510 511 512 513 514 515 517 519 521 522 523 524 526 528 530 532 533\n",
      " 534 535 536 537 538 539 541 543 546 547 548 549 550 551 552 553 559 560\n",
      " 561 562 563 564 565 566 568 569 570 571 572 573 574 575 577 578 579 580\n",
      " 581 582 583 584 585 586 587 589 590 591 592 594 595 596 597 598 599 601\n",
      " 602 604 605 606 608 609 610 611 612 613 615 616 618 619 620 621 622 623\n",
      " 624 625 626 627 628 629 631 634 635 636 637 638 639 641 643 645 646 647\n",
      " 648 649 651 653 654 655 656 657 658 659 660 661 662 664 665 666 667 669\n",
      " 670 671 672 673 674 675 676 677 678 679 680 681 682 683 686 687 691 692\n",
      " 693 694 696 697 698 699 701 702 703 704 705 708 709 710 711 713 714 715\n",
      " 716 717 718 720 723 724 725 726 727 729 730 731 732 733 735 736 738 739\n",
      " 740 741 742 745 746 748 749 754 755 756 758 760 761 763 765 766 767 768\n",
      " 769 770 771 772 773 774 775 776 777 779 780 781 782 783 784 785 786 787\n",
      " 789 790 793 794 795 796 797 798 799 800 801 802 804 805 806 807 808 809\n",
      " 810 811 812 813 814 815 816 818 819 820 821 824 825 826 827 828 829 830\n",
      " 831 833 834 835 836 837 838 839 840 841 842 843 844 845 846 847 848 849\n",
      " 851 852 853 857 859 860 862 863 864 865 867 868 869 870 872 873 874 875\n",
      " 876 877 878 879 880 881 882 883 884 885 890] Validation: [ 10  16  21  22  29  36  38  39  40  41  45  46  49  53  57  74  76  90\n",
      " 104 111 118 128 132 133 134 142 145 146 147 150 152 154 157 169 171 174\n",
      " 179 185 186 192 198 199 209 221 235 237 239 255 263 265 268 270 273 279\n",
      " 282 291 300 313 314 320 322 326 330 336 337 345 346 347 348 350 362 365\n",
      " 367 368 373 385 387 393 394 399 401 426 430 434 444 450 452 454 458 483\n",
      " 497 503 505 507 508 516 518 520 525 527 529 531 540 542 544 545 554 555\n",
      " 556 557 558 567 576 588 593 600 603 607 614 617 630 632 633 640 642 644\n",
      " 650 652 663 668 684 685 688 689 690 695 700 706 707 712 719 721 722 728\n",
      " 734 737 743 744 747 750 751 752 753 757 759 762 764 778 788 791 792 803\n",
      " 817 822 823 832 850 854 855 856 858 861 866 871 886 887 888 889]\n",
      "Train: [  0   1   2   3   4   5   6   9  10  11  12  13  14  15  16  18  19  20\n",
      "  21  22  23  24  26  28  29  30  32  33  34  35  36  38  39  40  41  42\n",
      "  43  44  45  46  47  48  49  52  53  54  55  57  59  60  61  63  64  66\n",
      "  67  68  70  71  72  73  74  75  76  77  78  80  81  82  83  84  86  87\n",
      "  88  89  90  91  92  93  94  95  96  97 100 101 102 103 104 105 106 107\n",
      " 108 109 110 111 112 114 115 116 117 118 119 120 121 123 126 127 128 129\n",
      " 132 133 134 135 136 137 138 139 140 141 142 143 145 146 147 148 150 152\n",
      " 153 154 155 157 158 159 160 161 162 164 165 168 169 170 171 172 174 175\n",
      " 176 177 179 183 184 185 186 187 188 189 190 192 193 194 195 196 198 199\n",
      " 200 201 202 204 205 206 207 209 210 211 212 214 215 216 217 218 219 220\n",
      " 221 222 223 225 227 228 229 233 234 235 236 237 238 239 240 241 242 244\n",
      " 246 247 249 250 251 252 253 254 255 256 258 259 260 261 262 263 264 265\n",
      " 268 270 272 273 274 276 278 279 280 281 282 283 284 285 286 287 288 289\n",
      " 290 291 292 294 295 298 299 300 301 302 303 304 305 306 307 308 309 310\n",
      " 312 313 314 315 316 317 319 320 322 323 324 325 326 327 328 329 330 331\n",
      " 332 333 334 335 336 337 338 339 340 341 343 344 345 346 347 348 349 350\n",
      " 351 352 353 354 355 357 358 360 361 362 363 364 365 366 367 368 369 371\n",
      " 373 375 376 377 379 380 381 382 383 384 385 386 387 388 389 390 393 394\n",
      " 395 398 399 400 401 402 403 404 405 406 408 409 412 413 414 415 417 418\n",
      " 421 424 425 426 427 428 429 430 431 433 434 437 438 439 440 441 443 444\n",
      " 446 447 448 450 451 452 454 455 456 457 458 460 461 462 464 465 466 467\n",
      " 468 471 472 474 476 478 479 481 482 483 484 485 486 487 488 489 490 491\n",
      " 492 493 494 495 496 497 498 500 501 502 503 504 505 506 507 508 509 510\n",
      " 513 514 515 516 517 518 519 520 521 522 523 524 525 526 527 528 529 531\n",
      " 532 533 535 536 537 538 539 540 541 542 543 544 545 546 548 549 550 552\n",
      " 553 554 555 556 557 558 559 560 561 562 563 565 566 567 568 569 570 571\n",
      " 572 573 574 575 576 578 580 581 582 583 584 588 589 590 592 593 594 595\n",
      " 597 599 600 602 603 604 606 607 608 610 611 612 613 614 615 617 619 620\n",
      " 622 623 624 625 626 628 630 632 633 634 636 637 638 640 641 642 643 644\n",
      " 645 646 647 648 649 650 651 652 653 656 657 659 661 662 663 664 665 667\n",
      " 668 669 670 671 672 674 675 677 678 679 680 681 682 683 684 685 686 688\n",
      " 689 690 691 692 695 696 697 699 700 701 703 705 706 707 709 710 711 712\n",
      " 713 715 716 719 720 721 722 723 724 725 726 727 728 730 731 732 733 734\n",
      " 735 736 737 739 740 741 742 743 744 745 746 747 748 750 751 752 753 754\n",
      " 755 756 757 758 759 762 763 764 767 768 769 770 771 774 776 777 778 779\n",
      " 780 782 784 786 787 788 789 790 791 792 793 794 795 796 798 801 802 803\n",
      " 804 806 809 811 812 814 816 817 818 819 821 822 823 824 826 827 828 829\n",
      " 830 831 832 833 834 835 837 838 839 840 841 842 843 845 848 849 850 851\n",
      " 852 853 854 855 856 858 860 861 862 865 866 867 868 869 871 873 874 875\n",
      " 876 878 879 880 882 885 886 887 888 889 890] Validation: [  7   8  17  25  27  31  37  50  51  56  58  62  65  69  79  85  98  99\n",
      " 113 122 124 125 130 131 144 149 151 156 163 166 167 173 178 180 181 182\n",
      " 191 197 203 208 213 224 226 230 231 232 243 245 248 257 266 267 269 271\n",
      " 275 277 293 296 297 311 318 321 342 356 359 370 372 374 378 391 392 396\n",
      " 397 407 410 411 416 419 420 422 423 432 435 436 442 445 449 453 459 463\n",
      " 469 470 473 475 477 480 499 511 512 530 534 547 551 564 577 579 585 586\n",
      " 587 591 596 598 601 605 609 616 618 621 627 629 631 635 639 654 655 658\n",
      " 660 666 673 676 687 693 694 698 702 704 708 714 717 718 729 738 749 760\n",
      " 761 765 766 772 773 775 781 783 785 797 799 800 805 807 808 810 813 815\n",
      " 820 825 836 844 846 847 857 859 863 864 870 872 877 881 883 884]\n"
     ]
    }
   ],
   "source": [
    "from sklearn.linear_model import LogisticRegression\n",
    "from sklearn.metrics import accuracy_score\n",
    "import numpy as np\n",
    "\n",
    "from sklearn.model_selection import RepeatedKFold\n",
    "scores_test = []\n",
    "model = LogisticRegression(solver='lbfgs', penalty='l2', random_state=1)\n",
    "rkf = RepeatedKFold(n_splits=5, n_repeats=1, random_state=None)\n",
    "# X is the feature set and y is the target\n",
    "for train_index, test_index in rkf.split(x):\n",
    "    print(\"Train:\", train_index, \"Validation:\", test_index)\n",
    "    x_train, x_test = x[train_index], x[test_index]\n",
    "    #print(x_train.shape, x_test.shape)\n",
    "    y_train, y_test = y[train_index], y[test_index]\n",
    "    y_train = y_train.ravel()\n",
    "    y_test = y_test.ravel()\n",
    "    \n",
    "    #print(y_train.shape, y_test.shape)\n",
    "    model.fit(x_train, y_train)\n",
    "    ypred = model.predict(x_test)\n",
    "    scores_test.append(model.score(x_test, y_test))"
   ]
  },
  {
   "cell_type": "code",
   "execution_count": 39,
   "metadata": {
    "scrolled": true
   },
   "outputs": [
    {
     "name": "stdout",
     "output_type": "stream",
     "text": [
      "[0.7877094972067039, 0.797752808988764, 0.8202247191011236, 0.7752808988764045, 0.7752808988764045]\n"
     ]
    }
   ],
   "source": [
    "print(scores_test)"
   ]
  },
  {
   "cell_type": "code",
   "execution_count": 40,
   "metadata": {},
   "outputs": [
    {
     "name": "stdout",
     "output_type": "stream",
     "text": [
      "0.7912497646098801\n"
     ]
    }
   ],
   "source": [
    "scores_test = numpy.array(scores_test)\n",
    "print(numpy.mean(scores_test))"
   ]
  },
  {
   "cell_type": "code",
   "execution_count": 41,
   "metadata": {},
   "outputs": [
    {
     "data": {
      "image/png": "[encoded data removed]",
      "text/plain": [
       "<Figure size 432x288 with 1 Axes>"
      ]
     },
     "metadata": {
      "needs_background": "light"
     },
     "output_type": "display_data"
    }
   ],
   "source": [
    "from sklearn.pipeline import make_pipeline\n",
    "from sklearn.model_selection import learning_curve\n",
    "\n",
    "pipe_lr = make_pipeline(LogisticRegression(penalty='l2', random_state=1,\n",
    "                                           solver='lbfgs', max_iter=10000))\n",
    "\n",
    "train_sizes, train_scores, test_scores = learning_curve(estimator=pipe_lr,\n",
    "                               X=x_train,\n",
    "                               y=y_train,\n",
    "                               train_sizes=np.linspace(0.1, 1.0, 10),\n",
    "                               cv=10,\n",
    "                               n_jobs=1)\n",
    "\n",
    "train_mean = np.mean(train_scores, axis=1)\n",
    "train_std = np.std(train_scores, axis=1)\n",
    "test_mean = np.mean(test_scores, axis=1)\n",
    "test_std = np.std(test_scores, axis=1)\n",
    "\n",
    "plt.plot(train_sizes, train_mean,\n",
    "         color='blue', marker='o',\n",
    "         markersize=5, label='Training accuracy')\n",
    "\n",
    "plt.fill_between(train_sizes,\n",
    "                 train_mean + train_std,\n",
    "                 train_mean - train_std,\n",
    "                 alpha=0.15, color='blue')\n",
    "\n",
    "plt.plot(train_sizes, test_mean,\n",
    "         color='green', linestyle='--',\n",
    "         marker='s', markersize=5,\n",
    "         label='Validation accuracy')\n",
    "\n",
    "plt.fill_between(train_sizes,\n",
    "                 test_mean + test_std,\n",
    "                 test_mean - test_std,\n",
    "                 alpha=0.15, color='green')\n",
    "\n",
    "plt.grid()\n",
    "plt.xlabel('Number of training examples')\n",
    "plt.ylabel('Accuracy')\n",
    "plt.legend(loc='lower right')\n",
    "plt.ylim([0.7, 0.83])\n",
    "plt.tight_layout()\n",
    "# plt.savefig('images/06_05.png', dpi=300)\n",
    "plt.show()"
   ]
  },
  {
   "cell_type": "markdown",
   "metadata": {},
   "source": [
    "### Extra Tree Classifier\n",
    "\n",
    "Extra Trees is like Random Forest, in that it builds multiple trees and splits nodes using random subsets of features, but with two key differences: it does not bootstrap observations (meaning it samples without replacement), and nodes are split on random splits, not best splits. "
   ]
  },
  {
   "cell_type": "code",
   "execution_count": 42,
   "metadata": {},
   "outputs": [],
   "source": [
    "from sklearn.ensemble import ExtraTreesClassifier "
   ]
  },
  {
   "cell_type": "code",
   "execution_count": 48,
   "metadata": {},
   "outputs": [
    {
     "data": {
      "text/plain": [
       "ExtraTreesClassifier(bootstrap=False, class_weight=None, criterion='entropy',\n",
       "                     max_depth=None, max_features=2, max_leaf_nodes=None,\n",
       "                     min_impurity_decrease=0.0, min_impurity_split=None,\n",
       "                     min_samples_leaf=1, min_samples_split=2,\n",
       "                     min_weight_fraction_leaf=0.0, n_estimators=5, n_jobs=None,\n",
       "                     oob_score=False, random_state=2, verbose=0,\n",
       "                     warm_start=False)"
      ]
     },
     "execution_count": 48,
     "metadata": {},
     "output_type": "execute_result"
    }
   ],
   "source": [
    "extra_tree_forest = ExtraTreesClassifier(n_estimators = 5, \n",
    "                                        criterion ='entropy', max_features = 2, random_state=2) \n",
    "  \n",
    "# Training the model \n",
    "dfy = np.array(dfy).ravel()\n",
    "extra_tree_forest.fit(dfx, dfy) "
   ]
  },
  {
   "cell_type": "code",
   "execution_count": 52,
   "metadata": {},
   "outputs": [
    {
     "name": "stdout",
     "output_type": "stream",
     "text": [
      "[0.4705246  0.33170388 0.15739352 0.040378  ]\n",
      "[0.03111371 0.00480494 0.03389417 0.0072374 ]\n"
     ]
    }
   ],
   "source": [
    "# Computing the importance of each feature \n",
    "feature_importance = extra_tree_forest.feature_importances_ \n",
    "\n",
    "print(feature_importance)  \n",
    "# Normalizing the individual importances \n",
    "feature_importance_normalized = np.std([tree.feature_importances_ for tree in \n",
    "                                        extra_tree_forest.estimators_], \n",
    "                                        axis = 0) \n",
    "# print(feature_importance_normalized)  # this might be optional\n",
    "\n",
    "# \"Age\", \"Gender\", \"family_size\", \"Embarked\""
   ]
  },
  {
   "cell_type": "code",
   "execution_count": 53,
   "metadata": {},
   "outputs": [
    {
     "data": {
      "image/png": "[encoded data removed]",
      "text/plain": [
       "<Figure size 432x288 with 1 Axes>"
      ]
     },
     "metadata": {
      "needs_background": "light"
     },
     "output_type": "display_data"
    }
   ],
   "source": [
    "#plt.bar(dfx.columns, feature_importance_normalized) \n",
    "plt.bar(dfx.columns, feature_importance) \n",
    "plt.xlabel('Feature Labels') \n",
    "plt.ylabel('Feature Importances') \n",
    "plt.title('Comparison of different Feature Importances') \n",
    "plt.show() "
   ]
  },
  {
   "cell_type": "code",
   "execution_count": null,
   "metadata": {},
   "outputs": [],
   "source": []
  }
 ],
 "metadata": {
  "kernelspec": {
   "display_name": "Python 3",
   "language": "python",
   "name": "python3"
  },
  "language_info": {
   "codemirror_mode": {
    "name": "ipython",
    "version": 3
   },
   "file_extension": ".py",
   "mimetype": "text/x-python",
   "name": "python",
   "nbconvert_exporter": "python",
   "pygments_lexer": "ipython3",
   "version": "3.8.5"
  },
  "widgets": {
   "state": {},
   "version": "1.1.2"
  }
 },
 "nbformat": 4,
 "nbformat_minor": 2
}
